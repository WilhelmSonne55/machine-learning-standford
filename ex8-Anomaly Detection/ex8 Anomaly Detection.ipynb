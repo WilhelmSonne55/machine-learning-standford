{
 "cells": [
  {
   "cell_type": "markdown",
   "metadata": {},
   "source": [
    "# Anomaly Detection"
   ]
  },
  {
   "cell_type": "markdown",
   "metadata": {},
   "source": [
    "-----\n",
    "## 1. load data"
   ]
  },
  {
   "cell_type": "code",
   "execution_count": 1,
   "metadata": {},
   "outputs": [],
   "source": [
    "import scipy.io"
   ]
  },
  {
   "cell_type": "code",
   "execution_count": 2,
   "metadata": {},
   "outputs": [],
   "source": [
    "mat = scipy.io.loadmat('ex8data1.mat')"
   ]
  },
  {
   "cell_type": "code",
   "execution_count": 3,
   "metadata": {},
   "outputs": [
    {
     "data": {
      "text/plain": [
       "dict_keys(['__header__', '__version__', '__globals__', 'X', 'Xval', 'yval'])"
      ]
     },
     "execution_count": 3,
     "metadata": {},
     "output_type": "execute_result"
    }
   ],
   "source": [
    "mat.keys()"
   ]
  },
  {
   "cell_type": "code",
   "execution_count": 4,
   "metadata": {},
   "outputs": [],
   "source": [
    "X = mat['X']\n",
    "Xval = mat['Xval']\n",
    "yval = mat['yval']"
   ]
  },
  {
   "cell_type": "code",
   "execution_count": 5,
   "metadata": {},
   "outputs": [
    {
     "name": "stdout",
     "output_type": "stream",
     "text": [
      "X: (307, 2)\n",
      "Xval: (307, 2)\n",
      "Yval: (307, 1)\n"
     ]
    }
   ],
   "source": [
    "print('X:',X.shape)\n",
    "print('Xval:',Xval.shape)\n",
    "print('Yval:',yval.shape)"
   ]
  },
  {
   "cell_type": "code",
   "execution_count": 6,
   "metadata": {},
   "outputs": [],
   "source": [
    "import matplotlib.pyplot as plt"
   ]
  },
  {
   "cell_type": "code",
   "execution_count": 7,
   "metadata": {
    "scrolled": true
   },
   "outputs": [
    {
     "data": {
      "text/plain": [
       "(0.0, 30.0)"
      ]
     },
     "execution_count": 7,
     "metadata": {},
     "output_type": "execute_result"
    },
    {
     "data": {
      "image/png": "[encoded data removed]",
      "text/plain": [
       "<Figure size 432x288 with 1 Axes>"
      ]
     },
     "metadata": {
      "needs_background": "light"
     },
     "output_type": "display_data"
    }
   ],
   "source": [
    "plt.plot(X[:,0], X[:,1],'x')\n",
    "plt.ylabel('Throughput(mb/s)')\n",
    "plt.xlabel('Latency(ms)')\n",
    "plt.ylim(0,30)\n",
    "plt.xlim(0,30)"
   ]
  },
  {
   "cell_type": "markdown",
   "metadata": {},
   "source": [
    "---\n",
    "## 2.1 Gaussian Dsitribution"
   ]
  },
  {
   "cell_type": "code",
   "execution_count": 11,
   "metadata": {},
   "outputs": [],
   "source": [
    "import numpy as np"
   ]
  },
  {
   "cell_type": "code",
   "execution_count": 12,
   "metadata": {},
   "outputs": [],
   "source": [
    "def estimateGaussian(X):\n",
    "    [m,n] = X.shape\n",
    "    print('m:',m)\n",
    "    print('n:',n)\n",
    "    mu = np.mean(X,0) #each col\n",
    "    sigma2 = sum(np.square(X-mu))/m  # equal np.var(X)\n",
    "    return [mu,sigma2]"
   ]
  },
  {
   "cell_type": "code",
   "execution_count": 10,
   "metadata": {
    "scrolled": true
   },
   "outputs": [
    {
     "name": "stdout",
     "output_type": "stream",
     "text": [
      "m: 307\n",
      "n: 2\n",
      "mu: [14.11222578 14.99771051]\n",
      "sigma2: [1.83263141 1.70974533]\n"
     ]
    }
   ],
   "source": [
    "[mu, sigma2] = estimateGaussian(X)\n",
    "print('mu:',mu)\n",
    "print('sigma2:',sigma2)"
   ]
  },
  {
   "cell_type": "markdown",
   "metadata": {},
   "source": [
    "## 2.2 Estimating parameters for a Gaussian"
   ]
  },
  {
   "cell_type": "code",
   "execution_count": 11,
   "metadata": {},
   "outputs": [],
   "source": [
    "from scipy.stats import norm"
   ]
  },
  {
   "cell_type": "code",
   "execution_count": 16,
   "metadata": {},
   "outputs": [],
   "source": [
    "import math"
   ]
  },
  {
   "cell_type": "code",
   "execution_count": 18,
   "metadata": {},
   "outputs": [
    {
     "name": "stdout",
     "output_type": "stream",
     "text": [
      "sigma2: [[60.97489373  0.          0.          0.          0.          0.\n",
      "   0.          0.          0.          0.          0.        ]\n",
      " [ 0.         53.20572186  0.          0.          0.          0.\n",
      "   0.          0.          0.          0.          0.        ]\n",
      " [ 0.          0.         58.51546272  0.          0.          0.\n",
      "   0.          0.          0.          0.          0.        ]\n",
      " [ 0.          0.          0.         84.20403725  0.          0.\n",
      "   0.          0.          0.          0.          0.        ]\n",
      " [ 0.          0.          0.          0.         65.26859177  0.\n",
      "   0.          0.          0.          0.          0.        ]\n",
      " [ 0.          0.          0.          0.          0.         89.57487757\n",
      "   0.          0.          0.          0.          0.        ]\n",
      " [ 0.          0.          0.          0.          0.          0.\n",
      "  55.63349911  0.          0.          0.          0.        ]\n",
      " [ 0.          0.          0.          0.          0.          0.\n",
      "   0.         87.16233783  0.          0.          0.        ]\n",
      " [ 0.          0.          0.          0.          0.          0.\n",
      "   0.          0.         29.62926829  0.          0.        ]\n",
      " [ 0.          0.          0.          0.          0.          0.\n",
      "   0.          0.          0.         70.7852052   0.        ]\n",
      " [ 0.          0.          0.          0.          0.          0.\n",
      "   0.          0.          0.          0.         50.50356719]]\n"
     ]
    }
   ],
   "source": [
    "sigma2 = np.diag(sigma2) #diagonal covariance matrix\n",
    "print('sigma2:',sigma2)"
   ]
  },
  {
   "cell_type": "code",
   "execution_count": 13,
   "metadata": {},
   "outputs": [],
   "source": [
    "def multivariateGaussian(X, mu, sigma2):\n",
    "    k = mu.size\n",
    "    print('k:',k)\n",
    "    p = np.power(2*math.pi,-k/2)*np.power(np.linalg.det(sigma2), -0.5)\\\n",
    "    * np.exp(-0.5*np.sum(np.dot(np.square(X-mu),np.linalg.inv(sigma2)),1)) \n",
    "    #p = p1 * p2...*pj, \n",
    "    #sum for each col: exp(g1) * exp(g2) = exp(g1+g2)\n",
    "    return p"
   ]
  },
  {
   "cell_type": "code",
   "execution_count": 24,
   "metadata": {
    "collapsed": true
   },
   "outputs": [
    {
     "name": "stdout",
     "output_type": "stream",
     "text": [
      "k: 2\n",
      "p: [6.47082850e-02 5.03041697e-02 7.24503459e-02 5.03157451e-02\n",
      " 6.36849657e-02 4.24583228e-02 4.79094514e-02 3.65111476e-02\n",
      " 1.86657981e-02 5.06882606e-02 2.65150875e-02 8.47130185e-02\n",
      " 7.10473222e-02 6.95531914e-02 3.77788348e-02 8.27029589e-02\n",
      " 8.77921221e-02 8.68763043e-02 6.91708642e-02 9.73470177e-03\n",
      " 7.57066464e-02 8.83768074e-02 3.74100482e-02 8.71375788e-02\n",
      " 4.12630362e-02 2.48800242e-02 7.90901300e-02 7.59228904e-02\n",
      " 8.08257085e-02 7.66395995e-02 5.01173495e-02 8.80498288e-02\n",
      " 6.17880844e-02 5.96234469e-02 2.09024063e-02 4.57936991e-02\n",
      " 3.53418180e-02 8.21286529e-02 7.24325306e-02 8.49788605e-02\n",
      " 6.41878342e-02 6.64784465e-02 8.37566936e-02 8.57620375e-02\n",
      " 6.94628046e-02 5.88478150e-02 3.30652955e-02 7.03092647e-02\n",
      " 7.77494497e-02 3.59889069e-02 7.34972804e-02 7.56209579e-02\n",
      " 8.54690789e-02 8.97861557e-02 7.58702322e-02 8.44453776e-02\n",
      " 8.67966985e-02 8.93502380e-02 7.83008864e-02 6.09965756e-02\n",
      " 6.89175589e-02 8.93992597e-02 2.35608690e-02 3.92180893e-02\n",
      " 3.46818928e-02 7.05817501e-02 3.38981997e-02 8.09065373e-02\n",
      " 2.39333067e-02 9.17533723e-03 8.29477945e-02 1.75044472e-02\n",
      " 7.80956770e-02 4.62408115e-02 8.25384807e-02 8.70597545e-02\n",
      " 6.96496648e-02 8.90359495e-02 3.07209353e-02 7.25514090e-02\n",
      " 8.71861744e-02 5.01965909e-02 8.49048764e-02 5.24503374e-02\n",
      " 4.75491419e-02 7.92049351e-02 7.72518330e-02 7.18201958e-02\n",
      " 8.64490053e-02 7.91849836e-02 6.98403556e-02 7.62494949e-02\n",
      " 8.84846100e-02 3.87561833e-02 8.33098641e-02 3.45751484e-02\n",
      " 3.04330917e-02 6.51014398e-02 4.36836225e-02 8.33536090e-02\n",
      " 3.61489534e-02 5.41789722e-02 5.33747246e-02 4.97008171e-02\n",
      " 5.19186366e-02 8.49078425e-02 3.25980999e-02 6.92838156e-02\n",
      " 2.81799996e-02 9.55468031e-03 8.21338348e-02 2.87874996e-02\n",
      " 6.26980710e-02 2.12114105e-02 8.54838989e-03 3.38188192e-02\n",
      " 6.01939824e-02 4.35378786e-02 8.82988107e-02 2.04600677e-02\n",
      " 5.74104147e-02 7.88401397e-02 8.74895929e-02 8.44925214e-02\n",
      " 3.89405649e-02 6.80826308e-02 5.11048023e-02 7.03450624e-02\n",
      " 2.85075297e-02 8.84936640e-02 6.64815402e-02 3.54299676e-02\n",
      " 7.49806138e-02 5.56428307e-02 3.42538925e-02 8.62829601e-02\n",
      " 7.10118123e-02 6.89157819e-02 7.48864963e-02 6.07928456e-02\n",
      " 4.91999300e-02 8.93539102e-02 1.61169918e-02 4.88227655e-02\n",
      " 8.29938273e-02 1.94880758e-02 5.57741632e-02 4.63386487e-03\n",
      " 5.89151003e-02 8.95263743e-02 4.65419833e-02 2.96113427e-02\n",
      " 6.38166597e-02 8.38675807e-02 4.74575734e-02 5.73295835e-02\n",
      " 8.84677458e-02 5.16885883e-02 6.29679948e-02 8.82083034e-02\n",
      " 8.24624760e-02 3.15601090e-02 4.61456177e-02 8.34677831e-02\n",
      " 7.04380657e-02 4.34391366e-02 8.06417674e-02 8.62620138e-02\n",
      " 2.24888873e-02 7.26226172e-02 2.61792634e-03 8.88947695e-02\n",
      " 3.89573492e-02 6.12731079e-02 5.03082382e-02 7.05100449e-02\n",
      " 7.78937702e-02 8.92821923e-02 5.16601650e-02 3.66948966e-02\n",
      " 8.56315158e-02 7.81990426e-02 4.38016270e-02 6.10123680e-02\n",
      " 8.27155715e-02 5.96838823e-02 6.60635534e-02 5.04049132e-02\n",
      " 6.77286045e-02 7.74424268e-02 4.57762504e-02 3.37401968e-02\n",
      " 6.93574757e-02 6.61797642e-02 5.86205978e-02 4.49182428e-02\n",
      " 7.26098969e-02 8.54283819e-02 6.62462969e-02 8.53232230e-03\n",
      " 4.26023762e-02 7.06832752e-02 7.88802906e-02 4.79149810e-02\n",
      " 8.28341715e-02 6.89006081e-02 6.67690644e-02 2.31111265e-02\n",
      " 8.15014643e-02 7.35357887e-02 4.82816719e-02 6.69115189e-02\n",
      " 5.73138080e-02 3.90993603e-02 8.31761008e-02 7.08238879e-02\n",
      " 6.75869297e-02 6.55765300e-02 4.44861687e-02 7.94458608e-02\n",
      " 8.11263964e-02 7.93582339e-02 1.85455997e-02 2.91281943e-02\n",
      " 4.43972080e-02 6.61795685e-02 1.94130293e-02 5.65033697e-02\n",
      " 4.64386776e-02 8.08147450e-02 4.98411830e-02 2.80715437e-02\n",
      " 8.67137326e-02 6.46220331e-02 7.00117951e-02 7.51723526e-02\n",
      " 5.50334697e-02 8.50356242e-02 5.08042686e-02 3.89878001e-02\n",
      " 3.70269142e-02 1.18371110e-02 8.39176182e-02 6.49057605e-02\n",
      " 6.90838012e-02 5.53118482e-02 7.20696157e-02 4.39740990e-02\n",
      " 7.05254661e-02 6.28238124e-03 6.45202201e-02 3.19314201e-02\n",
      " 5.07397326e-02 3.73145084e-02 6.71099308e-02 8.35605668e-02\n",
      " 5.35571729e-02 8.76881796e-02 5.29430953e-02 8.77407216e-02\n",
      " 4.95417100e-02 4.24129376e-02 7.54137034e-02 6.57821432e-02\n",
      " 6.55062518e-02 7.24227917e-02 6.57029225e-02 7.18996551e-02\n",
      " 5.60565776e-02 6.89732355e-02 5.25875443e-02 8.40942927e-02\n",
      " 8.69876312e-02 6.47407569e-02 4.42194372e-02 2.37352634e-02\n",
      " 3.89644526e-02 3.56946069e-02 5.83220038e-02 2.29994711e-02\n",
      " 7.65943681e-02 3.21847761e-02 5.78630925e-02 6.63407745e-02\n",
      " 7.53910796e-02 6.72341277e-02 6.42521098e-02 7.35872805e-02\n",
      " 6.12199799e-02 8.94762010e-02 7.86897544e-02 8.98609508e-02\n",
      " 8.49000815e-02 6.57829489e-02 7.21847367e-02 7.22682876e-02\n",
      " 8.71862113e-02 7.94024944e-02 7.20475229e-02 1.25364342e-02\n",
      " 5.93339213e-06 1.18120912e-23 3.98134038e-02 5.45567281e-08\n",
      " 4.46172062e-12 6.10718445e-05 2.91286664e-23]\n"
     ]
    }
   ],
   "source": [
    "p = multivariateGaussian(X, mu, sigma2)\n",
    "print('p:',p)"
   ]
  },
  {
   "cell_type": "code",
   "execution_count": 112,
   "metadata": {},
   "outputs": [
    {
     "name": "stdout",
     "output_type": "stream",
     "text": [
      "x: [ 0.          0.50724638  1.01449275  1.52173913  2.02898551  2.53623188\n",
      "  3.04347826  3.55072464  4.05797101  4.56521739  5.07246377  5.57971014\n",
      "  6.08695652  6.5942029   7.10144928  7.60869565  8.11594203  8.62318841\n",
      "  9.13043478  9.63768116 10.14492754 10.65217391 11.15942029 11.66666667\n",
      " 12.17391304 12.68115942 13.1884058  13.69565217 14.20289855 14.71014493\n",
      " 15.2173913  15.72463768 16.23188406 16.73913043 17.24637681 17.75362319\n",
      " 18.26086957 18.76811594 19.27536232 19.7826087  20.28985507 20.79710145\n",
      " 21.30434783 21.8115942  22.31884058 22.82608696 23.33333333 23.84057971\n",
      " 24.34782609 24.85507246 25.36231884 25.86956522 26.37681159 26.88405797\n",
      " 27.39130435 27.89855072 28.4057971  28.91304348 29.42028986 29.92753623\n",
      " 30.43478261 30.94202899 31.44927536 31.95652174 32.46376812 32.97101449\n",
      " 33.47826087 33.98550725 34.49275362 35.        ]\n",
      "xv: [[ 0.          0.50724638  1.01449275 ... 33.98550725 34.49275362\n",
      "  35.        ]\n",
      " [ 0.          0.50724638  1.01449275 ... 33.98550725 34.49275362\n",
      "  35.        ]\n",
      " [ 0.          0.50724638  1.01449275 ... 33.98550725 34.49275362\n",
      "  35.        ]\n",
      " ...\n",
      " [ 0.          0.50724638  1.01449275 ... 33.98550725 34.49275362\n",
      "  35.        ]\n",
      " [ 0.          0.50724638  1.01449275 ... 33.98550725 34.49275362\n",
      "  35.        ]\n",
      " [ 0.          0.50724638  1.01449275 ... 33.98550725 34.49275362\n",
      "  35.        ]]\n",
      "yv [[ 0.          0.          0.         ...  0.          0.\n",
      "   0.        ]\n",
      " [ 0.50724638  0.50724638  0.50724638 ...  0.50724638  0.50724638\n",
      "   0.50724638]\n",
      " [ 1.01449275  1.01449275  1.01449275 ...  1.01449275  1.01449275\n",
      "   1.01449275]\n",
      " ...\n",
      " [33.98550725 33.98550725 33.98550725 ... 33.98550725 33.98550725\n",
      "  33.98550725]\n",
      " [34.49275362 34.49275362 34.49275362 ... 34.49275362 34.49275362\n",
      "  34.49275362]\n",
      " [35.         35.         35.         ... 35.         35.\n",
      "  35.        ]]\n"
     ]
    }
   ],
   "source": [
    "x = np.linspace(0,35,70)\n",
    "y = np.linspace(0,35,70)\n",
    "xv,yv = np.meshgrid(x,y)\n",
    "print('x:',x)\n",
    "print('xv:',xv)\n",
    "print('yv',yv)"
   ]
  },
  {
   "cell_type": "code",
   "execution_count": 26,
   "metadata": {},
   "outputs": [
    {
     "data": {
      "text/plain": [
       "(4900, 1)"
      ]
     },
     "execution_count": 26,
     "metadata": {},
     "output_type": "execute_result"
    }
   ],
   "source": [
    "xcol = xv.reshape(xv.size,1) #reshape as col\n",
    "ycol = yv.reshape(yv.size,1)\n",
    "xcol.shape"
   ]
  },
  {
   "cell_type": "code",
   "execution_count": 27,
   "metadata": {
    "scrolled": true
   },
   "outputs": [
    {
     "name": "stdout",
     "output_type": "stream",
     "text": [
      "k: 2\n",
      "p: [6.47082850e-02 5.03041697e-02 7.24503459e-02 5.03157451e-02\n",
      " 6.36849657e-02 4.24583228e-02 4.79094514e-02 3.65111476e-02\n",
      " 1.86657981e-02 5.06882606e-02 2.65150875e-02 8.47130185e-02\n",
      " 7.10473222e-02 6.95531914e-02 3.77788348e-02 8.27029589e-02\n",
      " 8.77921221e-02 8.68763043e-02 6.91708642e-02 9.73470177e-03\n",
      " 7.57066464e-02 8.83768074e-02 3.74100482e-02 8.71375788e-02\n",
      " 4.12630362e-02 2.48800242e-02 7.90901300e-02 7.59228904e-02\n",
      " 8.08257085e-02 7.66395995e-02 5.01173495e-02 8.80498288e-02\n",
      " 6.17880844e-02 5.96234469e-02 2.09024063e-02 4.57936991e-02\n",
      " 3.53418180e-02 8.21286529e-02 7.24325306e-02 8.49788605e-02\n",
      " 6.41878342e-02 6.64784465e-02 8.37566936e-02 8.57620375e-02\n",
      " 6.94628046e-02 5.88478150e-02 3.30652955e-02 7.03092647e-02\n",
      " 7.77494497e-02 3.59889069e-02 7.34972804e-02 7.56209579e-02\n",
      " 8.54690789e-02 8.97861557e-02 7.58702322e-02 8.44453776e-02\n",
      " 8.67966985e-02 8.93502380e-02 7.83008864e-02 6.09965756e-02\n",
      " 6.89175589e-02 8.93992597e-02 2.35608690e-02 3.92180893e-02\n",
      " 3.46818928e-02 7.05817501e-02 3.38981997e-02 8.09065373e-02\n",
      " 2.39333067e-02 9.17533723e-03 8.29477945e-02 1.75044472e-02\n",
      " 7.80956770e-02 4.62408115e-02 8.25384807e-02 8.70597545e-02\n",
      " 6.96496648e-02 8.90359495e-02 3.07209353e-02 7.25514090e-02\n",
      " 8.71861744e-02 5.01965909e-02 8.49048764e-02 5.24503374e-02\n",
      " 4.75491419e-02 7.92049351e-02 7.72518330e-02 7.18201958e-02\n",
      " 8.64490053e-02 7.91849836e-02 6.98403556e-02 7.62494949e-02\n",
      " 8.84846100e-02 3.87561833e-02 8.33098641e-02 3.45751484e-02\n",
      " 3.04330917e-02 6.51014398e-02 4.36836225e-02 8.33536090e-02\n",
      " 3.61489534e-02 5.41789722e-02 5.33747246e-02 4.97008171e-02\n",
      " 5.19186366e-02 8.49078425e-02 3.25980999e-02 6.92838156e-02\n",
      " 2.81799996e-02 9.55468031e-03 8.21338348e-02 2.87874996e-02\n",
      " 6.26980710e-02 2.12114105e-02 8.54838989e-03 3.38188192e-02\n",
      " 6.01939824e-02 4.35378786e-02 8.82988107e-02 2.04600677e-02\n",
      " 5.74104147e-02 7.88401397e-02 8.74895929e-02 8.44925214e-02\n",
      " 3.89405649e-02 6.80826308e-02 5.11048023e-02 7.03450624e-02\n",
      " 2.85075297e-02 8.84936640e-02 6.64815402e-02 3.54299676e-02\n",
      " 7.49806138e-02 5.56428307e-02 3.42538925e-02 8.62829601e-02\n",
      " 7.10118123e-02 6.89157819e-02 7.48864963e-02 6.07928456e-02\n",
      " 4.91999300e-02 8.93539102e-02 1.61169918e-02 4.88227655e-02\n",
      " 8.29938273e-02 1.94880758e-02 5.57741632e-02 4.63386487e-03\n",
      " 5.89151003e-02 8.95263743e-02 4.65419833e-02 2.96113427e-02\n",
      " 6.38166597e-02 8.38675807e-02 4.74575734e-02 5.73295835e-02\n",
      " 8.84677458e-02 5.16885883e-02 6.29679948e-02 8.82083034e-02\n",
      " 8.24624760e-02 3.15601090e-02 4.61456177e-02 8.34677831e-02\n",
      " 7.04380657e-02 4.34391366e-02 8.06417674e-02 8.62620138e-02\n",
      " 2.24888873e-02 7.26226172e-02 2.61792634e-03 8.88947695e-02\n",
      " 3.89573492e-02 6.12731079e-02 5.03082382e-02 7.05100449e-02\n",
      " 7.78937702e-02 8.92821923e-02 5.16601650e-02 3.66948966e-02\n",
      " 8.56315158e-02 7.81990426e-02 4.38016270e-02 6.10123680e-02\n",
      " 8.27155715e-02 5.96838823e-02 6.60635534e-02 5.04049132e-02\n",
      " 6.77286045e-02 7.74424268e-02 4.57762504e-02 3.37401968e-02\n",
      " 6.93574757e-02 6.61797642e-02 5.86205978e-02 4.49182428e-02\n",
      " 7.26098969e-02 8.54283819e-02 6.62462969e-02 8.53232230e-03\n",
      " 4.26023762e-02 7.06832752e-02 7.88802906e-02 4.79149810e-02\n",
      " 8.28341715e-02 6.89006081e-02 6.67690644e-02 2.31111265e-02\n",
      " 8.15014643e-02 7.35357887e-02 4.82816719e-02 6.69115189e-02\n",
      " 5.73138080e-02 3.90993603e-02 8.31761008e-02 7.08238879e-02\n",
      " 6.75869297e-02 6.55765300e-02 4.44861687e-02 7.94458608e-02\n",
      " 8.11263964e-02 7.93582339e-02 1.85455997e-02 2.91281943e-02\n",
      " 4.43972080e-02 6.61795685e-02 1.94130293e-02 5.65033697e-02\n",
      " 4.64386776e-02 8.08147450e-02 4.98411830e-02 2.80715437e-02\n",
      " 8.67137326e-02 6.46220331e-02 7.00117951e-02 7.51723526e-02\n",
      " 5.50334697e-02 8.50356242e-02 5.08042686e-02 3.89878001e-02\n",
      " 3.70269142e-02 1.18371110e-02 8.39176182e-02 6.49057605e-02\n",
      " 6.90838012e-02 5.53118482e-02 7.20696157e-02 4.39740990e-02\n",
      " 7.05254661e-02 6.28238124e-03 6.45202201e-02 3.19314201e-02\n",
      " 5.07397326e-02 3.73145084e-02 6.71099308e-02 8.35605668e-02\n",
      " 5.35571729e-02 8.76881796e-02 5.29430953e-02 8.77407216e-02\n",
      " 4.95417100e-02 4.24129376e-02 7.54137034e-02 6.57821432e-02\n",
      " 6.55062518e-02 7.24227917e-02 6.57029225e-02 7.18996551e-02\n",
      " 5.60565776e-02 6.89732355e-02 5.25875443e-02 8.40942927e-02\n",
      " 8.69876312e-02 6.47407569e-02 4.42194372e-02 2.37352634e-02\n",
      " 3.89644526e-02 3.56946069e-02 5.83220038e-02 2.29994711e-02\n",
      " 7.65943681e-02 3.21847761e-02 5.78630925e-02 6.63407745e-02\n",
      " 7.53910796e-02 6.72341277e-02 6.42521098e-02 7.35872805e-02\n",
      " 6.12199799e-02 8.94762010e-02 7.86897544e-02 8.98609508e-02\n",
      " 8.49000815e-02 6.57829489e-02 7.21847367e-02 7.22682876e-02\n",
      " 8.71862113e-02 7.94024944e-02 7.20475229e-02 1.25364342e-02\n",
      " 5.93339213e-06 1.18120912e-23 3.98134038e-02 5.45567281e-08\n",
      " 4.46172062e-12 6.10718445e-05 2.91286664e-23]\n"
     ]
    }
   ],
   "source": [
    "z = np.concatenate((xcol,ycol),1)\n",
    "P = multivariateGaussian(z, mu, sigma2)\n",
    "P = np.reshape(P, (x.size,y.size)) #reshape as two col\n",
    "print('p:',p)"
   ]
  },
  {
   "cell_type": "code",
   "execution_count": 120,
   "metadata": {},
   "outputs": [
    {
     "data": {
      "text/plain": [
       "10"
      ]
     },
     "execution_count": 120,
     "metadata": {},
     "output_type": "execute_result"
    }
   ],
   "source": [
    "level = 10**np.linspace(-20,3,10) #level of the contour\n",
    "level.size"
   ]
  },
  {
   "cell_type": "code",
   "execution_count": 121,
   "metadata": {},
   "outputs": [
    {
     "data": {
      "image/png": "[encoded data removed]",
      "text/plain": [
       "<Figure size 432x288 with 1 Axes>"
      ]
     },
     "metadata": {
      "needs_background": "light"
     },
     "output_type": "display_data"
    }
   ],
   "source": [
    "plt.ylabel('Throughput(mb/s)')\n",
    "plt.xlabel('Latency(ms)')\n",
    "plt.ylim(0,30)\n",
    "plt.xlim(0,30)\n",
    "plt.plot(X[:,0], X[:,1],'x')\n",
    "plt.contour(xv,yv,P,level)\n",
    "plt.show()"
   ]
  },
  {
   "cell_type": "markdown",
   "metadata": {},
   "source": [
    "## 2.3 Selecting the threshold"
   ]
  },
  {
   "cell_type": "code",
   "execution_count": 30,
   "metadata": {},
   "outputs": [
    {
     "name": "stdout",
     "output_type": "stream",
     "text": [
      "k: 2\n"
     ]
    }
   ],
   "source": [
    "pval = multivariateGaussian(Xval, mu,sigma2) #mu, sigma2 using the same as training sets"
   ]
  },
  {
   "cell_type": "code",
   "execution_count": 105,
   "metadata": {
    "scrolled": false
   },
   "outputs": [
    {
     "name": "stdout",
     "output_type": "stream",
     "text": [
      "epsilon: 0.08990852779269494\n",
      "prediction shape: (307,)\n",
      "yval shape: (307, 1)\n",
      "true positive: 9\n",
      "false negative: 297\n",
      "flase positive: 0\n"
     ]
    }
   ],
   "source": [
    "#for checking \n",
    "e = max(pval)\n",
    "print('epsilon:',e)\n",
    "prediction = pval < e\n",
    "tp = sum((prediction == True)&(yval[:,0] == True))\n",
    "fp = sum((prediction == False)&(yval[:,0] == True))\n",
    "fn = sum((prediction == True)&(yval[:,0] == False))\n",
    "\n",
    "print('prediction shape:',prediction.shape)\n",
    "print('yval shape:',yval.shape)\n",
    "print('true positive:',tp) #the number\n",
    "print('false negative:',fn)\n",
    "print('flase positive:',fp)"
   ]
  },
  {
   "cell_type": "code",
   "execution_count": 24,
   "metadata": {},
   "outputs": [],
   "source": [
    "def selectThreshold(yval, pval):\n",
    "    bestEpsilon = 0\n",
    "    bestF1 = 0\n",
    "    epsilons = np.linspace(min(pval),max(pval),1000) #1000 steps\n",
    "    for e in epsilons:\n",
    "        prediction = pval < e\n",
    "        tp = sum((prediction == True)&(yval[:,0] == True))\n",
    "        fp = sum((prediction == False)&(yval[:,0] == True))\n",
    "        fn = sum((prediction == True)&(yval[:,0] == False))\n",
    "\n",
    "        if(tp+fp == 0):\n",
    "            prec = 0\n",
    "        else:\n",
    "            prec = tp/(tp+fp)\n",
    "            \n",
    "        if(tp+fn == 0):\n",
    "            rec = 0\n",
    "        else:\n",
    "            rec = tp/(tp+fn)\n",
    "            \n",
    "        if(prec+ rec == 0):\n",
    "            F1 = 0\n",
    "        else:\n",
    "            F1 = (2*prec*rec)/(prec+rec)\n",
    "    \n",
    "        if(F1 > bestF1):\n",
    "            bestF1 = F1\n",
    "            bestEpsilon = e\n",
    "        \n",
    "    return bestF1, bestEpsilon"
   ]
  },
  {
   "cell_type": "code",
   "execution_count": 107,
   "metadata": {},
   "outputs": [
    {
     "name": "stdout",
     "output_type": "stream",
     "text": [
      "epsilon: 8.999852631901395e-05\n",
      "F1: 0.8750000000000001\n"
     ]
    }
   ],
   "source": [
    "[F1, epsilon] = selectThreshold(yval, pval)\n",
    "print('epsilon:',epsilon)\n",
    "print('F1:',F1)"
   ]
  },
  {
   "cell_type": "code",
   "execution_count": 126,
   "metadata": {},
   "outputs": [
    {
     "name": "stdout",
     "output_type": "stream",
     "text": [
      "outliers found: 6\n"
     ]
    }
   ],
   "source": [
    "outliers = np.argwhere(p < epsilon) #use best epsilon to find anomaly features\n",
    "print('outliers found:',outliers.size)"
   ]
  },
  {
   "cell_type": "code",
   "execution_count": 127,
   "metadata": {},
   "outputs": [
    {
     "data": {
      "image/png": "[encoded data removed]",
      "text/plain": [
       "<Figure size 432x288 with 1 Axes>"
      ]
     },
     "metadata": {
      "needs_background": "light"
     },
     "output_type": "display_data"
    }
   ],
   "source": [
    "plt.ylabel('Throughput(mb/s)')\n",
    "plt.xlabel('Latency(ms)')\n",
    "plt.ylim(0,30)\n",
    "plt.xlim(0,30)\n",
    "plt.plot(X[:,0], X[:,1],'x')\n",
    "plt.contour(xv,yv,P,level)\n",
    "plt.plot(X[outliers,0], X[outliers,1],'ro')\n",
    "plt.show()"
   ]
  },
  {
   "cell_type": "markdown",
   "metadata": {},
   "source": [
    "## 2.4 High dimensional dataset"
   ]
  },
  {
   "cell_type": "code",
   "execution_count": 2,
   "metadata": {},
   "outputs": [],
   "source": [
    "mat2 = scipy.io.loadmat('ex8data2.mat')"
   ]
  },
  {
   "cell_type": "code",
   "execution_count": 6,
   "metadata": {},
   "outputs": [
    {
     "data": {
      "text/plain": [
       "dict_keys(['__header__', '__version__', '__globals__', 'X', 'Xval', 'yval'])"
      ]
     },
     "execution_count": 6,
     "metadata": {},
     "output_type": "execute_result"
    }
   ],
   "source": [
    "mat2.keys()"
   ]
  },
  {
   "cell_type": "code",
   "execution_count": 9,
   "metadata": {},
   "outputs": [],
   "source": [
    "X = mat2['X']\n",
    "Xval = mat2['Xval']\n",
    "yval = mat2['yval']"
   ]
  },
  {
   "cell_type": "code",
   "execution_count": 20,
   "metadata": {},
   "outputs": [
    {
     "name": "stdout",
     "output_type": "stream",
     "text": [
      "m: 1000\n",
      "n: 11\n",
      "sigma2: [[60.97489373  0.          0.          0.          0.          0.\n",
      "   0.          0.          0.          0.          0.        ]\n",
      " [ 0.         53.20572186  0.          0.          0.          0.\n",
      "   0.          0.          0.          0.          0.        ]\n",
      " [ 0.          0.         58.51546272  0.          0.          0.\n",
      "   0.          0.          0.          0.          0.        ]\n",
      " [ 0.          0.          0.         84.20403725  0.          0.\n",
      "   0.          0.          0.          0.          0.        ]\n",
      " [ 0.          0.          0.          0.         65.26859177  0.\n",
      "   0.          0.          0.          0.          0.        ]\n",
      " [ 0.          0.          0.          0.          0.         89.57487757\n",
      "   0.          0.          0.          0.          0.        ]\n",
      " [ 0.          0.          0.          0.          0.          0.\n",
      "  55.63349911  0.          0.          0.          0.        ]\n",
      " [ 0.          0.          0.          0.          0.          0.\n",
      "   0.         87.16233783  0.          0.          0.        ]\n",
      " [ 0.          0.          0.          0.          0.          0.\n",
      "   0.          0.         29.62926829  0.          0.        ]\n",
      " [ 0.          0.          0.          0.          0.          0.\n",
      "   0.          0.          0.         70.7852052   0.        ]\n",
      " [ 0.          0.          0.          0.          0.          0.\n",
      "   0.          0.          0.          0.         50.50356719]]\n"
     ]
    }
   ],
   "source": [
    "[mu, sigma2] = estimateGaussian(X)\n",
    "sigma2 = np.diag(sigma2) #diagonal covariance matrix\n",
    "print('sigma2:',sigma2)"
   ]
  },
  {
   "cell_type": "code",
   "execution_count": 22,
   "metadata": {},
   "outputs": [
    {
     "name": "stdout",
     "output_type": "stream",
     "text": [
      "k: 11\n",
      "k: 11\n"
     ]
    }
   ],
   "source": [
    "p = multivariateGaussian(X, mu,sigma2)\n",
    "pval = multivariateGaussian(Xval, mu,sigma2)"
   ]
  },
  {
   "cell_type": "code",
   "execution_count": 34,
   "metadata": {},
   "outputs": [],
   "source": [
    "[F1, epsilon] = selectThreshold(yval, pval)"
   ]
  },
  {
   "cell_type": "code",
   "execution_count": 35,
   "metadata": {},
   "outputs": [
    {
     "name": "stdout",
     "output_type": "stream",
     "text": [
      "epsilon: 1.378607498200029e-18\n",
      "F1: 0.6153846153846154\n"
     ]
    }
   ],
   "source": [
    "print('epsilon:',epsilon)\n",
    "print('F1:',F1)"
   ]
  },
  {
   "cell_type": "code",
   "execution_count": 36,
   "metadata": {},
   "outputs": [
    {
     "name": "stdout",
     "output_type": "stream",
     "text": [
      "outliers found: 117\n"
     ]
    }
   ],
   "source": [
    "outliers = np.argwhere(p < epsilon) #use best epsilon to find anomaly features\n",
    "print('outliers found:',outliers.size)"
   ]
  }
 ],
 "metadata": {
  "kernelspec": {
   "display_name": "Python 3",
   "language": "python",
   "name": "python3"
  },
  "language_info": {
   "codemirror_mode": {
    "name": "ipython",
    "version": 3
   },
   "file_extension": ".py",
   "mimetype": "text/x-python",
   "name": "python",
   "nbconvert_exporter": "python",
   "pygments_lexer": "ipython3",
   "version": "3.8.5"
  }
 },
 "nbformat": 4,
 "nbformat_minor": 4
}
