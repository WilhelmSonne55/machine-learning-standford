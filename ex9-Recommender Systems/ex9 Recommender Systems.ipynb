{
 "cells": [
  {
   "cell_type": "markdown",
   "metadata": {},
   "source": [
    "# Recommender Systems"
   ]
  },
  {
   "cell_type": "markdown",
   "metadata": {},
   "source": [
    "## 1. Movie Ratings dataset"
   ]
  },
  {
   "cell_type": "code",
   "execution_count": 1,
   "metadata": {},
   "outputs": [],
   "source": [
    "import scipy.io"
   ]
  },
  {
   "cell_type": "code",
   "execution_count": 2,
   "metadata": {},
   "outputs": [],
   "source": [
    "mat = scipy.io.loadmat('ex8_movies.mat')"
   ]
  },
  {
   "cell_type": "code",
   "execution_count": 3,
   "metadata": {},
   "outputs": [
    {
     "data": {
      "text/plain": [
       "dict_keys(['__header__', '__version__', '__globals__', 'Y', 'R'])"
      ]
     },
     "execution_count": 3,
     "metadata": {},
     "output_type": "execute_result"
    }
   ],
   "source": [
    "mat.keys()"
   ]
  },
  {
   "cell_type": "code",
   "execution_count": 4,
   "metadata": {},
   "outputs": [
    {
     "data": {
      "text/plain": [
       "(1682, 943)"
      ]
     },
     "execution_count": 4,
     "metadata": {},
     "output_type": "execute_result"
    }
   ],
   "source": [
    "Y = mat['Y'] #row: movies, col: people\n",
    "Y.shape"
   ]
  },
  {
   "cell_type": "code",
   "execution_count": 5,
   "metadata": {},
   "outputs": [
    {
     "data": {
      "text/plain": [
       "(1682, 943)"
      ]
     },
     "execution_count": 5,
     "metadata": {},
     "output_type": "execute_result"
    }
   ],
   "source": [
    "R = mat['R']\n",
    "R.shape"
   ]
  },
  {
   "cell_type": "code",
   "execution_count": 6,
   "metadata": {},
   "outputs": [],
   "source": [
    "import numpy as np"
   ]
  },
  {
   "cell_type": "code",
   "execution_count": 7,
   "metadata": {},
   "outputs": [
    {
     "name": "stdout",
     "output_type": "stream",
     "text": [
      "average rating for movie 1 (toy story): 3.8783185840707963\n"
     ]
    }
   ],
   "source": [
    "index = np.argwhere(R[0]==1)\n",
    "av = np.mean(Y[0, index])\n",
    "print('average rating for movie 1 (toy story):',av)"
   ]
  },
  {
   "cell_type": "code",
   "execution_count": 8,
   "metadata": {},
   "outputs": [],
   "source": [
    "y = np.mat(Y)"
   ]
  },
  {
   "cell_type": "code",
   "execution_count": 9,
   "metadata": {},
   "outputs": [],
   "source": [
    "import cv2"
   ]
  },
  {
   "cell_type": "code",
   "execution_count": 10,
   "metadata": {},
   "outputs": [],
   "source": [
    "ys = cv2.resize(y, (540,480))\n",
    "ys = ys/np.max(y)\n",
    "cv2.imshow('image',ys)\n",
    "cv2.waitKey(0)\n",
    "cv2.destroyAllWindows()"
   ]
  },
  {
   "cell_type": "markdown",
   "metadata": {},
   "source": [
    "## 2. Collaborative filtering learning algorithm"
   ]
  },
  {
   "cell_type": "markdown",
   "metadata": {},
   "source": [
    "### 2.1 Collaborative filtering cost function"
   ]
  },
  {
   "cell_type": "code",
   "execution_count": 11,
   "metadata": {},
   "outputs": [],
   "source": [
    "mat2 = scipy.io.loadmat('ex8_movieParams.mat')"
   ]
  },
  {
   "cell_type": "code",
   "execution_count": 12,
   "metadata": {},
   "outputs": [
    {
     "data": {
      "text/plain": [
       "dict_keys(['__header__', '__version__', '__globals__', 'X', 'Theta', 'num_users', 'num_movies', 'num_features'])"
      ]
     },
     "execution_count": 12,
     "metadata": {},
     "output_type": "execute_result"
    }
   ],
   "source": [
    "mat2.keys()"
   ]
  },
  {
   "cell_type": "code",
   "execution_count": 13,
   "metadata": {},
   "outputs": [
    {
     "name": "stdout",
     "output_type": "stream",
     "text": [
      "X: (1682, 10)\n",
      "Theta: (943, 10)\n",
      "num_users: [[943]]\n",
      "num_movies: [[1682]]\n",
      "num_features: [[10]]\n"
     ]
    }
   ],
   "source": [
    "X = mat2['X']\n",
    "Theta = mat2['Theta']\n",
    "num_users = mat2['num_users']\n",
    "num_movies = mat2['num_movies']\n",
    "num_features = mat2['num_features']\n",
    "print('X:',X.shape)\n",
    "print('Theta:',Theta.shape)\n",
    "print('num_users:',num_users)\n",
    "print('num_movies:',num_movies)\n",
    "print('num_features:',num_features)"
   ]
  },
  {
   "cell_type": "code",
   "execution_count": 85,
   "metadata": {},
   "outputs": [],
   "source": [
    "def cofiCostFunc(X, Theta, Y, R):\n",
    "    diff = np.dot(X,Theta.transpose()) - Y\n",
    "    J = np.sum( np.square( diff*R ))*0.5\n",
    "    gradX = np.dot((diff*R),Theta)\n",
    "    gradTheta = np.dot((diff*R).transpose(), X)\n",
    "    return [J, np.concatenate((gradX, gradTheta), axis = None)] #make grad as one col"
   ]
  },
  {
   "cell_type": "code",
   "execution_count": 58,
   "metadata": {},
   "outputs": [
    {
     "name": "stdout",
     "output_type": "stream",
     "text": [
      "cost at loaded parameters: [22.224603725685675, [array([[-2.52899165,  7.57570308, -1.89979026],\n",
      "       [-0.56819597,  3.35265031, -0.52339845],\n",
      "       [-0.83240713,  4.91163297, -0.76677878],\n",
      "       [-0.38358278,  2.26333698, -0.35334048],\n",
      "       [-0.80378006,  4.74271842, -0.74040871]]), array([[-10.5680202 ,   4.62776019,  -7.16004443],\n",
      "       [ -3.05099006,   1.16441367,  -3.47410789],\n",
      "       [  0.        ,   0.        ,   0.        ],\n",
      "       [  0.        ,   0.        ,   0.        ]])]]\n"
     ]
    }
   ],
   "source": [
    "nmov = 5\n",
    "nuser = 4\n",
    "nfea = 3\n",
    "J = cofiCostFunc(X[0:nmov,0:nfea], Theta[0:nuser, 0:nfea],Y[0:nmov, 0:nuser], R[0:nmov, 0:nuser])\n",
    "print('cost at loaded parameters:',J)"
   ]
  },
  {
   "cell_type": "markdown",
   "metadata": {},
   "source": [
    "## 2.2 Collaborative filtering gradient"
   ]
  },
  {
   "cell_type": "code",
   "execution_count": 86,
   "metadata": {},
   "outputs": [],
   "source": [
    "J, grad = cofiCostFunc(X, Theta, Y, R)"
   ]
  },
  {
   "cell_type": "code",
   "execution_count": 91,
   "metadata": {},
   "outputs": [
    {
     "name": "stdout",
     "output_type": "stream",
     "text": [
      "J: 27918.64012454421\n",
      "grad.shape: (26250,)\n"
     ]
    }
   ],
   "source": [
    "print('J:',J)\n",
    "print('grad.shape:', grad.shape)"
   ]
  },
  {
   "cell_type": "code",
   "execution_count": 89,
   "metadata": {},
   "outputs": [
    {
     "data": {
      "text/plain": [
       "27918.64012454421"
      ]
     },
     "execution_count": 89,
     "metadata": {},
     "output_type": "execute_result"
    }
   ],
   "source": [
    "J"
   ]
  },
  {
   "cell_type": "code",
   "execution_count": null,
   "metadata": {},
   "outputs": [],
   "source": []
  }
 ],
 "metadata": {
  "kernelspec": {
   "display_name": "Python 3",
   "language": "python",
   "name": "python3"
  },
  "language_info": {
   "codemirror_mode": {
    "name": "ipython",
    "version": 3
   },
   "file_extension": ".py",
   "mimetype": "text/x-python",
   "name": "python",
   "nbconvert_exporter": "python",
   "pygments_lexer": "ipython3",
   "version": "3.8.5"
  }
 },
 "nbformat": 4,
 "nbformat_minor": 4
}
