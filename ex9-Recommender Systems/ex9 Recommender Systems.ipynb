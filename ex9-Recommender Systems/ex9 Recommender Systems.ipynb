{
 "cells": [
  {
   "cell_type": "markdown",
   "metadata": {},
   "source": [
    "# Recommender Systems"
   ]
  },
  {
   "cell_type": "markdown",
   "metadata": {},
   "source": [
    "## 1. Movie Ratings dataset"
   ]
  },
  {
   "cell_type": "code",
   "execution_count": 1,
   "metadata": {},
   "outputs": [],
   "source": [
    "import scipy.io"
   ]
  },
  {
   "cell_type": "code",
   "execution_count": 2,
   "metadata": {},
   "outputs": [],
   "source": [
    "mat = scipy.io.loadmat('ex8_movies.mat')"
   ]
  },
  {
   "cell_type": "code",
   "execution_count": 82,
   "metadata": {},
   "outputs": [
    {
     "data": {
      "text/plain": [
       "dict_keys(['__header__', '__version__', '__globals__', 'Y', 'R'])"
      ]
     },
     "execution_count": 82,
     "metadata": {},
     "output_type": "execute_result"
    }
   ],
   "source": [
    "mat.keys()"
   ]
  },
  {
   "cell_type": "code",
   "execution_count": 83,
   "metadata": {},
   "outputs": [
    {
     "data": {
      "text/plain": [
       "(1682, 943)"
      ]
     },
     "execution_count": 83,
     "metadata": {},
     "output_type": "execute_result"
    }
   ],
   "source": [
    "Y = mat['Y'] #row: movies, col: people\n",
    "Y.shape"
   ]
  },
  {
   "cell_type": "code",
   "execution_count": 84,
   "metadata": {},
   "outputs": [
    {
     "data": {
      "text/plain": [
       "(1682, 943)"
      ]
     },
     "execution_count": 84,
     "metadata": {},
     "output_type": "execute_result"
    }
   ],
   "source": [
    "R = mat['R']\n",
    "R.shape"
   ]
  },
  {
   "cell_type": "code",
   "execution_count": 6,
   "metadata": {},
   "outputs": [],
   "source": [
    "import numpy as np"
   ]
  },
  {
   "cell_type": "code",
   "execution_count": 7,
   "metadata": {},
   "outputs": [
    {
     "name": "stdout",
     "output_type": "stream",
     "text": [
      "average rating for movie 1 (toy story): 3.8783185840707963\n"
     ]
    }
   ],
   "source": [
    "index = np.argwhere(R[0]==1)\n",
    "av = np.mean(Y[0, index])\n",
    "print('average rating for movie 1 (toy story):',av)"
   ]
  },
  {
   "cell_type": "code",
   "execution_count": 8,
   "metadata": {},
   "outputs": [],
   "source": [
    "y = np.mat(Y)"
   ]
  },
  {
   "cell_type": "code",
   "execution_count": 9,
   "metadata": {},
   "outputs": [],
   "source": [
    "import cv2"
   ]
  },
  {
   "cell_type": "code",
   "execution_count": 10,
   "metadata": {},
   "outputs": [],
   "source": [
    "ys = cv2.resize(y, (540,480))\n",
    "ys = ys/np.max(y)\n",
    "cv2.imshow('image',ys)\n",
    "cv2.waitKey(0)\n",
    "cv2.destroyAllWindows()"
   ]
  },
  {
   "cell_type": "markdown",
   "metadata": {},
   "source": [
    "## 2. Collaborative filtering learning algorithm"
   ]
  },
  {
   "cell_type": "markdown",
   "metadata": {},
   "source": [
    "### 2.1 Collaborative filtering cost function"
   ]
  },
  {
   "cell_type": "code",
   "execution_count": 11,
   "metadata": {},
   "outputs": [],
   "source": [
    "mat2 = scipy.io.loadmat('ex8_movieParams.mat')"
   ]
  },
  {
   "cell_type": "code",
   "execution_count": 12,
   "metadata": {},
   "outputs": [
    {
     "data": {
      "text/plain": [
       "dict_keys(['__header__', '__version__', '__globals__', 'X', 'Theta', 'num_users', 'num_movies', 'num_features'])"
      ]
     },
     "execution_count": 12,
     "metadata": {},
     "output_type": "execute_result"
    }
   ],
   "source": [
    "mat2.keys()"
   ]
  },
  {
   "cell_type": "code",
   "execution_count": 170,
   "metadata": {},
   "outputs": [
    {
     "name": "stdout",
     "output_type": "stream",
     "text": [
      "X: (1682, 10)\n",
      "Theta: (943, 10)\n",
      "num_users: 943\n",
      "num_movies: 1682\n",
      "num_features: 10\n"
     ]
    }
   ],
   "source": [
    "X = mat2['X']\n",
    "Theta = mat2['Theta']\n",
    "num_users = mat2['num_users'][0][0]\n",
    "num_movies = mat2['num_movies'][0][0]\n",
    "num_features = mat2['num_features'][0][0]\n",
    "print('X:',X.shape)\n",
    "print('Theta:',Theta.shape)\n",
    "print('num_users:',num_users)\n",
    "print('num_movies:',num_movies)\n",
    "print('num_features:',num_features)"
   ]
  },
  {
   "cell_type": "code",
   "execution_count": 171,
   "metadata": {},
   "outputs": [
    {
     "data": {
      "text/plain": [
       "(26250,)"
      ]
     },
     "execution_count": 171,
     "metadata": {},
     "output_type": "execute_result"
    }
   ],
   "source": [
    "param = np.concatenate((X,Theta), axis = None)\n",
    "param.shape"
   ]
  },
  {
   "cell_type": "code",
   "execution_count": 176,
   "metadata": {},
   "outputs": [
    {
     "data": {
      "text/plain": [
       "array([[ 0.28544362, -1.68426509,  0.26293877, ...,  0.76723235,\n",
       "        -1.10460164, -0.25186708],\n",
       "       [ 0.50501321, -0.45464846,  0.31746244, ...,  1.09306336,\n",
       "        -1.20029436, -0.39161676],\n",
       "       [-0.43191656, -0.47880449,  0.84671111, ...,  1.36333976,\n",
       "        -0.32523542, -0.19468212],\n",
       "       ...,\n",
       "       [ 1.0586926 , -0.8087176 ,  0.56935771, ...,  0.80421422,\n",
       "        -0.74346778, -0.11985885],\n",
       "       [ 0.89058932, -0.12894734,  0.35560466, ...,  1.37426807,\n",
       "        -0.7526549 , -0.81135311],\n",
       "       [ 0.82414136, -0.38892594,  1.06940502, ...,  1.28423703,\n",
       "        -0.98349993, -0.53184838]])"
      ]
     },
     "execution_count": 176,
     "metadata": {},
     "output_type": "execute_result"
    }
   ],
   "source": [
    "theta = param[num_movies*num_features:].reshape(num_users, num_features)\n",
    "theta"
   ]
  },
  {
   "cell_type": "code",
   "execution_count": 177,
   "metadata": {},
   "outputs": [
    {
     "data": {
      "text/plain": [
       "array([[ 0.28544362, -1.68426509,  0.26293877, ...,  0.76723235,\n",
       "        -1.10460164, -0.25186708],\n",
       "       [ 0.50501321, -0.45464846,  0.31746244, ...,  1.09306336,\n",
       "        -1.20029436, -0.39161676],\n",
       "       [-0.43191656, -0.47880449,  0.84671111, ...,  1.36333976,\n",
       "        -0.32523542, -0.19468212],\n",
       "       ...,\n",
       "       [ 1.0586926 , -0.8087176 ,  0.56935771, ...,  0.80421422,\n",
       "        -0.74346778, -0.11985885],\n",
       "       [ 0.89058932, -0.12894734,  0.35560466, ...,  1.37426807,\n",
       "        -0.7526549 , -0.81135311],\n",
       "       [ 0.82414136, -0.38892594,  1.06940502, ...,  1.28423703,\n",
       "        -0.98349993, -0.53184838]])"
      ]
     },
     "execution_count": 177,
     "metadata": {},
     "output_type": "execute_result"
    }
   ],
   "source": [
    "Theta"
   ]
  },
  {
   "cell_type": "code",
   "execution_count": 234,
   "metadata": {},
   "outputs": [],
   "source": [
    "def cofiCostFunc(param, Y, R, num_users, num_movies, num_features):\n",
    "    X = param[:num_movies*num_features].reshape(num_movies, num_features)\n",
    "    Theta = param[num_movies*num_features:].reshape(num_users, num_features)\n",
    "    diff = np.dot(X,Theta.transpose()) - Y\n",
    "    J = np.sum( np.square( diff*R ))*0.5\n",
    "    gradX = np.dot((diff*R),Theta)\n",
    "    gradTheta = np.dot((diff*R).transpose(), X)\n",
    "    return [J, np.concatenate((gradX, gradTheta), axis = None)] #make grad as one col"
   ]
  },
  {
   "cell_type": "code",
   "execution_count": 228,
   "metadata": {},
   "outputs": [
    {
     "ename": "ValueError",
     "evalue": "cannot reshape array of size 9 into shape (4,3)",
     "output_type": "error",
     "traceback": [
      "\u001b[1;31m---------------------------------------------------------------------------\u001b[0m",
      "\u001b[1;31mValueError\u001b[0m                                Traceback (most recent call last)",
      "\u001b[1;32m<ipython-input-228-beb31f4282a5>\u001b[0m in \u001b[0;36m<module>\u001b[1;34m\u001b[0m\n\u001b[0;32m      2\u001b[0m \u001b[0mnuser\u001b[0m \u001b[1;33m=\u001b[0m \u001b[1;36m4\u001b[0m\u001b[1;33m\u001b[0m\u001b[1;33m\u001b[0m\u001b[0m\n\u001b[0;32m      3\u001b[0m \u001b[0mnfea\u001b[0m \u001b[1;33m=\u001b[0m \u001b[1;36m3\u001b[0m\u001b[1;33m\u001b[0m\u001b[1;33m\u001b[0m\u001b[0m\n\u001b[1;32m----> 4\u001b[1;33m J, grad = cofiCostFunc(np.concatenate((X[0:nmov,0:nfea], Theta[0:nuser, 0:nfea]), axis = None),\\\n\u001b[0m\u001b[0;32m      5\u001b[0m                  Y[0:nmov, 0:nuser], R[0:nmov, 0:nuser], nuser, nmov, nfea)\n\u001b[0;32m      6\u001b[0m \u001b[0mprint\u001b[0m\u001b[1;33m(\u001b[0m\u001b[1;34m'cost at loaded parameters:'\u001b[0m\u001b[1;33m,\u001b[0m\u001b[0mJ\u001b[0m\u001b[1;33m)\u001b[0m\u001b[1;33m\u001b[0m\u001b[1;33m\u001b[0m\u001b[0m\n",
      "\u001b[1;32m<ipython-input-227-68d66a7589e7>\u001b[0m in \u001b[0;36mcofiCostFunc\u001b[1;34m(param, Y, R, num_users, num_movies, num_features)\u001b[0m\n\u001b[0;32m      1\u001b[0m \u001b[1;32mdef\u001b[0m \u001b[0mcofiCostFunc\u001b[0m\u001b[1;33m(\u001b[0m\u001b[0mparam\u001b[0m\u001b[1;33m,\u001b[0m \u001b[0mY\u001b[0m\u001b[1;33m,\u001b[0m \u001b[0mR\u001b[0m\u001b[1;33m,\u001b[0m \u001b[0mnum_users\u001b[0m\u001b[1;33m,\u001b[0m \u001b[0mnum_movies\u001b[0m\u001b[1;33m,\u001b[0m \u001b[0mnum_features\u001b[0m\u001b[1;33m)\u001b[0m\u001b[1;33m:\u001b[0m\u001b[1;33m\u001b[0m\u001b[1;33m\u001b[0m\u001b[0m\n\u001b[0;32m      2\u001b[0m     \u001b[0mX\u001b[0m \u001b[1;33m=\u001b[0m \u001b[0mparam\u001b[0m\u001b[1;33m[\u001b[0m\u001b[1;33m:\u001b[0m\u001b[0mnum_movies\u001b[0m\u001b[1;33m*\u001b[0m\u001b[0mnum_features\u001b[0m\u001b[1;33m]\u001b[0m\u001b[1;33m.\u001b[0m\u001b[0mreshape\u001b[0m\u001b[1;33m(\u001b[0m\u001b[0mnum_movies\u001b[0m\u001b[1;33m,\u001b[0m \u001b[0mnum_features\u001b[0m\u001b[1;33m)\u001b[0m\u001b[1;33m\u001b[0m\u001b[1;33m\u001b[0m\u001b[0m\n\u001b[1;32m----> 3\u001b[1;33m     \u001b[0mTheta\u001b[0m \u001b[1;33m=\u001b[0m \u001b[0mparam\u001b[0m\u001b[1;33m[\u001b[0m\u001b[0mnum_movies\u001b[0m\u001b[1;33m*\u001b[0m\u001b[0mnum_features\u001b[0m\u001b[1;33m:\u001b[0m\u001b[1;33m]\u001b[0m\u001b[1;33m.\u001b[0m\u001b[0mreshape\u001b[0m\u001b[1;33m(\u001b[0m\u001b[0mnum_users\u001b[0m\u001b[1;33m,\u001b[0m \u001b[0mnum_features\u001b[0m\u001b[1;33m)\u001b[0m\u001b[1;33m\u001b[0m\u001b[1;33m\u001b[0m\u001b[0m\n\u001b[0m\u001b[0;32m      4\u001b[0m     \u001b[0mdiff\u001b[0m \u001b[1;33m=\u001b[0m \u001b[0mnp\u001b[0m\u001b[1;33m.\u001b[0m\u001b[0mdot\u001b[0m\u001b[1;33m(\u001b[0m\u001b[0mX\u001b[0m\u001b[1;33m,\u001b[0m\u001b[0mTheta\u001b[0m\u001b[1;33m.\u001b[0m\u001b[0mtranspose\u001b[0m\u001b[1;33m(\u001b[0m\u001b[1;33m)\u001b[0m\u001b[1;33m)\u001b[0m \u001b[1;33m-\u001b[0m \u001b[0mY\u001b[0m\u001b[1;33m\u001b[0m\u001b[1;33m\u001b[0m\u001b[0m\n\u001b[0;32m      5\u001b[0m     \u001b[0mJ\u001b[0m \u001b[1;33m=\u001b[0m \u001b[0mnp\u001b[0m\u001b[1;33m.\u001b[0m\u001b[0msum\u001b[0m\u001b[1;33m(\u001b[0m \u001b[0mnp\u001b[0m\u001b[1;33m.\u001b[0m\u001b[0msquare\u001b[0m\u001b[1;33m(\u001b[0m \u001b[0mdiff\u001b[0m\u001b[1;33m*\u001b[0m\u001b[0mR\u001b[0m \u001b[1;33m)\u001b[0m\u001b[1;33m)\u001b[0m\u001b[1;33m*\u001b[0m\u001b[1;36m0.5\u001b[0m\u001b[1;33m\u001b[0m\u001b[1;33m\u001b[0m\u001b[0m\n",
      "\u001b[1;31mValueError\u001b[0m: cannot reshape array of size 9 into shape (4,3)"
     ]
    }
   ],
   "source": [
    "nmov = 5\n",
    "nuser = 4\n",
    "nfea = 3\n",
    "J, grad = cofiCostFunc(np.concatenate((X[0:nmov,0:nfea], Theta[0:nuser, 0:nfea]), axis = None),\\\n",
    "                 Y[0:nmov, 0:nuser], R[0:nmov, 0:nuser], nuser, nmov, nfea)\n",
    "print('cost at loaded parameters:',J)"
   ]
  },
  {
   "cell_type": "markdown",
   "metadata": {},
   "source": [
    "## 2.2 Collaborative filtering gradient"
   ]
  },
  {
   "cell_type": "code",
   "execution_count": 187,
   "metadata": {},
   "outputs": [],
   "source": [
    "J, grad = cofiCostFunc(np.concatenate((X, Theta), axis = None), Y, R, num_users, num_movies, num_features)"
   ]
  },
  {
   "cell_type": "code",
   "execution_count": 188,
   "metadata": {},
   "outputs": [
    {
     "name": "stdout",
     "output_type": "stream",
     "text": [
      "J: 27918.64012454421\n",
      "grad.shape: (26250,)\n"
     ]
    }
   ],
   "source": [
    "print('J:',J)\n",
    "print('grad.shape:', grad.shape)"
   ]
  },
  {
   "cell_type": "markdown",
   "metadata": {},
   "source": [
    "## 2.3 Gradient Checking"
   ]
  },
  {
   "cell_type": "markdown",
   "metadata": {},
   "source": [
    "### 2.3.1 Create small size sets"
   ]
  },
  {
   "cell_type": "code",
   "execution_count": 257,
   "metadata": {},
   "outputs": [
    {
     "name": "stdout",
     "output_type": "stream",
     "text": [
      "X: [[0.41726386 0.71264126 0.75977636]\n",
      " [0.04533233 0.25978974 0.99071713]\n",
      " [0.25367465 0.1599984  0.68201261]\n",
      " [0.01836834 0.48924468 0.80094903]]\n",
      "Theta: [[0.9520208  0.45507959 0.05173047]\n",
      " [0.67904125 0.85158138 0.29265336]\n",
      " [0.95867711 0.5524942  0.76815891]\n",
      " [0.23078723 0.34677749 0.97503702]\n",
      " [0.16861148 0.76262338 0.12070809]]\n",
      "Y: [[0.76085596 1.1125625  1.37738045 1.08423719 0.70554352]\n",
      " [0.21263259 0.54195132 0.94801958 1.06653724 0.32535286]\n",
      " [0.34959639 0.5081005  0.85548434 0.77901626 0.24711542]\n",
      " [0.28156578 0.66350494 0.90317028 0.95485317 0.47288757]]\n"
     ]
    }
   ],
   "source": [
    "num_movies = 4\n",
    "num_features = 3\n",
    "num_users = 5\n",
    "X_t = np.random.rand(num_movies,num_features)\n",
    "Theta_t = np.random.rand(num_users,num_features)\n",
    "Y = np.dot(X_t, Theta_t.transpose())\n",
    "print('X:',X_t)\n",
    "print('Theta:',Theta_t)\n",
    "print('Y:',Y)"
   ]
  },
  {
   "cell_type": "markdown",
   "metadata": {},
   "source": [
    "### 2.3.2 Create missing data"
   ]
  },
  {
   "cell_type": "code",
   "execution_count": 258,
   "metadata": {},
   "outputs": [
    {
     "name": "stdout",
     "output_type": "stream",
     "text": [
      "Y: [[0.         0.         0.         0.         0.        ]\n",
      " [0.21263259 0.         0.         0.         0.32535286]\n",
      " [0.34959639 0.         0.         0.         0.24711542]\n",
      " [0.28156578 0.         0.         0.         0.47288757]]\n",
      "R: [[0. 0. 0. 0. 0.]\n",
      " [1. 0. 0. 0. 1.]\n",
      " [1. 0. 0. 0. 1.]\n",
      " [1. 0. 0. 0. 1.]]\n"
     ]
    }
   ],
   "source": [
    "Y[Y>0.5]=0\n",
    "R = np.zeros(Y.shape)\n",
    "R[Y != 0]=1\n",
    "print('Y:',Y)\n",
    "print('R:',R)"
   ]
  },
  {
   "cell_type": "code",
   "execution_count": 259,
   "metadata": {},
   "outputs": [],
   "source": [
    "X = np.random.rand(num_movies,num_features)\n",
    "Theta = np.random.rand(num_users,num_features)"
   ]
  },
  {
   "cell_type": "markdown",
   "metadata": {},
   "source": [
    "### 2.3.3 Implement Gradient Checking"
   ]
  },
  {
   "cell_type": "code",
   "execution_count": 268,
   "metadata": {},
   "outputs": [],
   "source": [
    "theta = np.concatenate((X,Theta), axis = None)\n",
    "numgrad = np.zeros(theta.size)\n",
    "e = math.exp(1e-4)\n",
    "perturb = np.zeros(theta.size)\n",
    "for i in range(0, theta.size):\n",
    "    perturb[i] = e\n",
    "    tmp = theta - perturb\n",
    "    loss1, grad = cofiCostFunc(tmp, Y, R, num_users, num_movies, num_features)\n",
    "    tmp = theta + perturb\n",
    "    loss2, grad = cofiCostFunc(tmp, Y, R, num_users, num_movies, num_features)\n",
    "    numgrad[i] = (loss2-loss1)/(2*e)\n",
    "    perturb[i] = 0"
   ]
  },
  {
   "cell_type": "code",
   "execution_count": 269,
   "metadata": {},
   "outputs": [
    {
     "data": {
      "text/plain": [
       "array([0.        , 0.        , 0.        , 0.55319049, 0.15676137,\n",
       "       0.71256401, 0.18711234, 0.04448443, 0.20500591, 0.28147406,\n",
       "       0.09380208, 0.42177617, 1.17878291, 0.97726549, 1.18798178,\n",
       "       0.        , 0.        , 0.        , 0.        , 0.        ,\n",
       "       0.        , 0.        , 0.        , 0.        , 0.46950719,\n",
       "       0.47147721, 0.56878213])"
      ]
     },
     "execution_count": 269,
     "metadata": {},
     "output_type": "execute_result"
    }
   ],
   "source": [
    "numgrad"
   ]
  },
  {
   "cell_type": "code",
   "execution_count": 270,
   "metadata": {},
   "outputs": [
    {
     "data": {
      "text/plain": [
       "array([0.        , 0.        , 0.        , 0.55319049, 0.15676137,\n",
       "       0.71256401, 0.18711234, 0.04448443, 0.20500591, 0.28147406,\n",
       "       0.09380208, 0.42177617, 1.17878291, 0.97726549, 1.18798178,\n",
       "       0.        , 0.        , 0.        , 0.        , 0.        ,\n",
       "       0.        , 0.        , 0.        , 0.        , 0.46950719,\n",
       "       0.47147721, 0.56878213])"
      ]
     },
     "execution_count": 270,
     "metadata": {},
     "output_type": "execute_result"
    }
   ],
   "source": [
    "J, grad = cofiCostFunc(theta, Y, R, num_users, num_movies, num_features)\n",
    "grad"
   ]
  },
  {
   "cell_type": "code",
   "execution_count": 271,
   "metadata": {},
   "outputs": [
    {
     "name": "stdout",
     "output_type": "stream",
     "text": [
      "relative difference should be less 1e-9:   1.390843401057588e-16\n"
     ]
    }
   ],
   "source": [
    "diff = np.linalg.norm(numgrad - grad)/(np.linalg.norm(numgrad+grad))\n",
    "print('relative difference should be less 1e-9:  ', diff)"
   ]
  }
 ],
 "metadata": {
  "kernelspec": {
   "display_name": "Python 3",
   "language": "python",
   "name": "python3"
  },
  "language_info": {
   "codemirror_mode": {
    "name": "ipython",
    "version": 3
   },
   "file_extension": ".py",
   "mimetype": "text/x-python",
   "name": "python",
   "nbconvert_exporter": "python",
   "pygments_lexer": "ipython3",
   "version": "3.8.5"
  }
 },
 "nbformat": 4,
 "nbformat_minor": 4
}
