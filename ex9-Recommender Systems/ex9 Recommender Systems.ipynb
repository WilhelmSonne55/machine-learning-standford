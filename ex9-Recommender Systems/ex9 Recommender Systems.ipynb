{
 "cells": [
  {
   "cell_type": "markdown",
   "metadata": {},
   "source": [
    "# Recommender Systems"
   ]
  },
  {
   "cell_type": "markdown",
   "metadata": {},
   "source": [
    "## 1. Movie Ratings dataset"
   ]
  },
  {
   "cell_type": "code",
   "execution_count": 1,
   "metadata": {},
   "outputs": [],
   "source": [
    "import scipy.io"
   ]
  },
  {
   "cell_type": "code",
   "execution_count": 2,
   "metadata": {},
   "outputs": [],
   "source": [
    "mat = scipy.io.loadmat('ex8_movies.mat')"
   ]
  },
  {
   "cell_type": "code",
   "execution_count": 3,
   "metadata": {},
   "outputs": [
    {
     "data": {
      "text/plain": [
       "dict_keys(['__header__', '__version__', '__globals__', 'Y', 'R'])"
      ]
     },
     "execution_count": 3,
     "metadata": {},
     "output_type": "execute_result"
    }
   ],
   "source": [
    "mat.keys()"
   ]
  },
  {
   "cell_type": "code",
   "execution_count": 4,
   "metadata": {},
   "outputs": [
    {
     "data": {
      "text/plain": [
       "(1682, 943)"
      ]
     },
     "execution_count": 4,
     "metadata": {},
     "output_type": "execute_result"
    }
   ],
   "source": [
    "Y = mat['Y'] #row: movies, col: people\n",
    "Y.shape"
   ]
  },
  {
   "cell_type": "code",
   "execution_count": 5,
   "metadata": {},
   "outputs": [
    {
     "data": {
      "text/plain": [
       "(1682, 943)"
      ]
     },
     "execution_count": 5,
     "metadata": {},
     "output_type": "execute_result"
    }
   ],
   "source": [
    "R = mat['R']\n",
    "R.shape"
   ]
  },
  {
   "cell_type": "code",
   "execution_count": 6,
   "metadata": {},
   "outputs": [],
   "source": [
    "import numpy as np"
   ]
  },
  {
   "cell_type": "code",
   "execution_count": 7,
   "metadata": {},
   "outputs": [
    {
     "name": "stdout",
     "output_type": "stream",
     "text": [
      "average rating for movie 1 (toy story): 3.8783185840707963\n"
     ]
    }
   ],
   "source": [
    "index = np.argwhere(R[0]==1)\n",
    "av = np.mean(Y[0, index])\n",
    "print('average rating for movie 1 (toy story):',av)"
   ]
  },
  {
   "cell_type": "code",
   "execution_count": 8,
   "metadata": {},
   "outputs": [],
   "source": [
    "y = np.mat(Y)"
   ]
  },
  {
   "cell_type": "code",
   "execution_count": 9,
   "metadata": {},
   "outputs": [],
   "source": [
    "import cv2"
   ]
  },
  {
   "cell_type": "code",
   "execution_count": 10,
   "metadata": {},
   "outputs": [],
   "source": [
    "ys = cv2.resize(y, (540,480))\n",
    "ys = ys/np.max(y)\n",
    "cv2.imshow('image',ys)\n",
    "cv2.waitKey(0)\n",
    "cv2.destroyAllWindows()"
   ]
  },
  {
   "cell_type": "markdown",
   "metadata": {},
   "source": [
    "## 2. Collaborative filtering learning algorithm"
   ]
  },
  {
   "cell_type": "markdown",
   "metadata": {},
   "source": [
    "### 2.1 Collaborative filtering cost function"
   ]
  },
  {
   "cell_type": "code",
   "execution_count": 10,
   "metadata": {},
   "outputs": [],
   "source": [
    "mat2 = scipy.io.loadmat('ex8_movieParams.mat')"
   ]
  },
  {
   "cell_type": "code",
   "execution_count": 11,
   "metadata": {},
   "outputs": [
    {
     "data": {
      "text/plain": [
       "dict_keys(['__header__', '__version__', '__globals__', 'X', 'Theta', 'num_users', 'num_movies', 'num_features'])"
      ]
     },
     "execution_count": 11,
     "metadata": {},
     "output_type": "execute_result"
    }
   ],
   "source": [
    "mat2.keys()"
   ]
  },
  {
   "cell_type": "code",
   "execution_count": 71,
   "metadata": {},
   "outputs": [
    {
     "name": "stdout",
     "output_type": "stream",
     "text": [
      "X: (1682, 10)\n",
      "Theta: (943, 10)\n",
      "num_users: 943\n",
      "num_movies: 1682\n",
      "num_features: 10\n"
     ]
    }
   ],
   "source": [
    "X = mat2['X']\n",
    "Theta = mat2['Theta']\n",
    "num_users = mat2['num_users'][0][0]\n",
    "num_movies = mat2['num_movies'][0][0]\n",
    "num_features = mat2['num_features'][0][0]\n",
    "print('X:',X.shape)\n",
    "print('Theta:',Theta.shape)\n",
    "print('num_users:',num_users)\n",
    "print('num_movies:',num_movies)\n",
    "print('num_features:',num_features)"
   ]
  },
  {
   "cell_type": "code",
   "execution_count": 72,
   "metadata": {},
   "outputs": [
    {
     "data": {
      "text/plain": [
       "(26250,)"
      ]
     },
     "execution_count": 72,
     "metadata": {},
     "output_type": "execute_result"
    }
   ],
   "source": [
    "param = np.concatenate((X,Theta), axis = None)\n",
    "param.shape"
   ]
  },
  {
   "cell_type": "code",
   "execution_count": 14,
   "metadata": {},
   "outputs": [],
   "source": [
    "def cofiCostFunc(param, Y, R, num_users, num_movies, num_features, Lambda):\n",
    "    X = param[:num_movies*num_features].reshape(num_movies, num_features)\n",
    "    Theta = param[num_movies*num_features:].reshape(num_users, num_features)\n",
    "    diff = np.dot(X,Theta.transpose()) - Y\n",
    "    J = np.sum( np.square( diff*R ))*0.5 + ( np.sum(np.square(Theta)) + np.sum(np.square(X)) )*0.5*Lambda\n",
    "    gradX = np.dot((diff*R),Theta) + Lambda*X\n",
    "    gradTheta = np.dot((diff*R).transpose(), X) + Lambda*Theta\n",
    "    return [J, np.concatenate((gradX, gradTheta), axis = None)] #make grad as one col"
   ]
  },
  {
   "cell_type": "code",
   "execution_count": 15,
   "metadata": {},
   "outputs": [
    {
     "name": "stdout",
     "output_type": "stream",
     "text": [
      "cost at loaded parameters: 22.224603725685675\n"
     ]
    }
   ],
   "source": [
    "nmov = 5\n",
    "nuser = 4\n",
    "nfea = 3\n",
    "J, grad = cofiCostFunc(np.concatenate((X[0:nmov,0:nfea], Theta[0:nuser, 0:nfea]), axis = None),\\\n",
    "                 Y[0:nmov, 0:nuser], R[0:nmov, 0:nuser], nuser, nmov, nfea,0)\n",
    "print('cost at loaded parameters:',J)"
   ]
  },
  {
   "cell_type": "markdown",
   "metadata": {},
   "source": [
    "## 2.2 Collaborative filtering gradient"
   ]
  },
  {
   "cell_type": "code",
   "execution_count": 16,
   "metadata": {},
   "outputs": [],
   "source": [
    "J, grad = cofiCostFunc(np.concatenate((X[0:nmov,0:nfea], Theta[0:nuser, 0:nfea]), axis = None),\\\n",
    "                 Y[0:nmov, 0:nuser], R[0:nmov, 0:nuser], nuser, nmov, nfea,1.5)"
   ]
  },
  {
   "cell_type": "code",
   "execution_count": 17,
   "metadata": {},
   "outputs": [
    {
     "name": "stdout",
     "output_type": "stream",
     "text": [
      "J: 31.34405624427422\n",
      "grad.shape: (27,)\n"
     ]
    }
   ],
   "source": [
    "print('J:',J)\n",
    "print('grad.shape:', grad.shape)"
   ]
  },
  {
   "cell_type": "markdown",
   "metadata": {},
   "source": [
    "---\n",
    "## 2.3 Gradient Checking"
   ]
  },
  {
   "cell_type": "markdown",
   "metadata": {},
   "source": [
    "### 2.3.1 Create small size sets"
   ]
  },
  {
   "cell_type": "code",
   "execution_count": 18,
   "metadata": {},
   "outputs": [
    {
     "name": "stdout",
     "output_type": "stream",
     "text": [
      "X: [[2.67648088e-04 3.00227861e-02 3.57080014e-02]\n",
      " [7.85120343e-01 5.54527273e-01 8.93551805e-01]\n",
      " [1.48986031e-01 3.80067496e-02 3.78708516e-01]\n",
      " [1.66933446e-03 5.66761902e-01 8.13957529e-01]]\n",
      "Theta: [[0.04582048 0.64844231 0.77934494]\n",
      " [0.94876083 0.24613814 0.57514885]\n",
      " [0.43551954 0.99580656 0.12246827]\n",
      " [0.54446527 0.13337267 0.26689846]\n",
      " [0.79372824 0.36371386 0.41661454]]\n",
      "Y: [[0.04730916 0.0281811  0.03438655 0.01368035 0.02600862]\n",
      " [1.09193862 1.39530703 1.00356889 0.73991714 1.19712812]\n",
      " [0.32661636 0.36852079 0.14911347 0.1872635  0.28985348]\n",
      " [1.00194257 0.60923225 0.66479622 0.29374345 0.5465707 ]]\n"
     ]
    }
   ],
   "source": [
    "num_movies = 4\n",
    "num_features = 3\n",
    "num_users = 5\n",
    "X_t = np.random.rand(num_movies,num_features)\n",
    "Theta_t = np.random.rand(num_users,num_features)\n",
    "Y = np.dot(X_t, Theta_t.transpose())\n",
    "print('X:',X_t)\n",
    "print('Theta:',Theta_t)\n",
    "print('Y:',Y)"
   ]
  },
  {
   "cell_type": "markdown",
   "metadata": {},
   "source": [
    "### 2.3.2 Create missing data"
   ]
  },
  {
   "cell_type": "code",
   "execution_count": 19,
   "metadata": {},
   "outputs": [
    {
     "name": "stdout",
     "output_type": "stream",
     "text": [
      "Y: [[0.04730916 0.0281811  0.03438655 0.01368035 0.02600862]\n",
      " [0.         0.         0.         0.         0.        ]\n",
      " [0.32661636 0.36852079 0.14911347 0.1872635  0.28985348]\n",
      " [0.         0.         0.         0.29374345 0.        ]]\n",
      "R: [[1. 1. 1. 1. 1.]\n",
      " [0. 0. 0. 0. 0.]\n",
      " [1. 1. 1. 1. 1.]\n",
      " [0. 0. 0. 1. 0.]]\n"
     ]
    }
   ],
   "source": [
    "Y[Y>0.5]=0\n",
    "R = np.zeros(Y.shape)\n",
    "R[Y != 0]=1\n",
    "print('Y:',Y)\n",
    "print('R:',R)"
   ]
  },
  {
   "cell_type": "code",
   "execution_count": 70,
   "metadata": {},
   "outputs": [],
   "source": [
    "X = np.random.rand(num_movies,num_features)\n",
    "Theta = np.random.rand(num_users,num_features)"
   ]
  },
  {
   "cell_type": "markdown",
   "metadata": {},
   "source": [
    "### 2.3.3 Implement Gradient Checking"
   ]
  },
  {
   "cell_type": "code",
   "execution_count": 21,
   "metadata": {},
   "outputs": [],
   "source": [
    "import math"
   ]
  },
  {
   "cell_type": "code",
   "execution_count": 22,
   "metadata": {},
   "outputs": [],
   "source": [
    "theta = np.concatenate((X,Theta), axis = None)"
   ]
  },
  {
   "cell_type": "code",
   "execution_count": 23,
   "metadata": {},
   "outputs": [],
   "source": [
    "def computeNumericalGradient(theta, num_users,num_movies, num_features, Lambda):\n",
    "    numgrad = np.zeros(theta.size)\n",
    "    e = math.exp(1e-4)\n",
    "    perturb = np.zeros(theta.size)\n",
    "    for i in range(0, theta.size):\n",
    "        perturb[i] = e\n",
    "        tmp = theta - perturb\n",
    "        loss1, grad = cofiCostFunc(tmp, Y, R, num_users, num_movies, num_features, Lambda)\n",
    "        tmp = theta + perturb\n",
    "        loss2, grad = cofiCostFunc(tmp, Y, R, num_users, num_movies, num_features, Lambda)\n",
    "        numgrad[i] = (loss2-loss1)/(2*e)\n",
    "        perturb[i] = 0\n",
    "    return numgrad"
   ]
  },
  {
   "cell_type": "code",
   "execution_count": 24,
   "metadata": {},
   "outputs": [
    {
     "data": {
      "text/plain": [
       "array([1.71918689, 2.02935985, 2.46137937, 0.        , 0.        ,\n",
       "       0.        , 0.42884899, 0.95071492, 0.86170869, 0.02336735,\n",
       "       0.34264356, 0.01434701, 0.16580919, 1.05484834, 0.66006073,\n",
       "       0.05567418, 0.22506681, 0.24028483, 0.13259836, 0.84712514,\n",
       "       0.52733951, 0.42918023, 0.99772977, 0.7368564 , 0.07004507,\n",
       "       0.37225631, 0.28943672])"
      ]
     },
     "execution_count": 24,
     "metadata": {},
     "output_type": "execute_result"
    }
   ],
   "source": [
    "numgrad = computeNumericalGradient(theta, num_users, num_movies, num_features, 0)\n",
    "numgrad"
   ]
  },
  {
   "cell_type": "code",
   "execution_count": 25,
   "metadata": {},
   "outputs": [
    {
     "data": {
      "text/plain": [
       "array([1.71918689, 2.02935985, 2.46137937, 0.        , 0.        ,\n",
       "       0.        , 0.42884899, 0.95071492, 0.86170869, 0.02336735,\n",
       "       0.34264356, 0.01434701, 0.16580919, 1.05484834, 0.66006073,\n",
       "       0.05567418, 0.22506681, 0.24028483, 0.13259836, 0.84712514,\n",
       "       0.52733951, 0.42918023, 0.99772977, 0.7368564 , 0.07004507,\n",
       "       0.37225631, 0.28943672])"
      ]
     },
     "execution_count": 25,
     "metadata": {},
     "output_type": "execute_result"
    }
   ],
   "source": [
    "J, grad = cofiCostFunc(theta, Y, R, num_users, num_movies, num_features, 0)\n",
    "grad"
   ]
  },
  {
   "cell_type": "code",
   "execution_count": 26,
   "metadata": {},
   "outputs": [
    {
     "name": "stdout",
     "output_type": "stream",
     "text": [
      "relative difference should be less 1e-9:   1.1806958638996733e-16\n"
     ]
    }
   ],
   "source": [
    "diff = np.linalg.norm(numgrad - grad)/(np.linalg.norm(numgrad+grad))\n",
    "print('relative difference should be less 1e-9:  ', diff)"
   ]
  },
  {
   "cell_type": "markdown",
   "metadata": {},
   "source": [
    "### 2.3.4 Regularized gradient checking"
   ]
  },
  {
   "cell_type": "code",
   "execution_count": 27,
   "metadata": {},
   "outputs": [
    {
     "data": {
      "text/plain": [
       "array([1.90815351, 2.96775019, 3.25173523, 0.11348139, 0.04713975,\n",
       "       0.3179112 , 0.51187617, 2.02961668, 1.11266672, 1.13357856,\n",
       "       1.81664245, 1.39594501, 1.10690813, 2.43069928, 2.03164111,\n",
       "       1.50044462, 0.43437582, 1.12937016, 0.7646171 , 1.65746669,\n",
       "       1.97743876, 0.50271571, 2.07600594, 0.78200548, 0.56363972,\n",
       "       0.84076248, 1.2033396 ])"
      ]
     },
     "execution_count": 27,
     "metadata": {},
     "output_type": "execute_result"
    }
   ],
   "source": [
    "numgrad = computeNumericalGradient(theta, num_users, num_movies, num_features, 1.5)\n",
    "numgrad"
   ]
  },
  {
   "cell_type": "code",
   "execution_count": 28,
   "metadata": {},
   "outputs": [
    {
     "data": {
      "text/plain": [
       "array([1.90815351, 2.96775019, 3.25173523, 0.11348139, 0.04713975,\n",
       "       0.3179112 , 0.51187617, 2.02961668, 1.11266672, 1.13357856,\n",
       "       1.81664245, 1.39594501, 1.10690813, 2.43069928, 2.03164111,\n",
       "       1.50044462, 0.43437582, 1.12937016, 0.7646171 , 1.65746669,\n",
       "       1.97743876, 0.50271571, 2.07600594, 0.78200548, 0.56363972,\n",
       "       0.84076248, 1.2033396 ])"
      ]
     },
     "execution_count": 28,
     "metadata": {},
     "output_type": "execute_result"
    }
   ],
   "source": [
    "J, grad = cofiCostFunc(theta, Y, R, num_users, num_movies, num_features, 1.5)\n",
    "grad"
   ]
  },
  {
   "cell_type": "code",
   "execution_count": 29,
   "metadata": {},
   "outputs": [
    {
     "name": "stdout",
     "output_type": "stream",
     "text": [
      "relative difference should be less 1e-9:   1.9924960018067223e-16\n"
     ]
    }
   ],
   "source": [
    "diff = np.linalg.norm(numgrad - grad)/(np.linalg.norm(numgrad+grad))\n",
    "print('relative difference should be less 1e-9:  ', diff)"
   ]
  },
  {
   "cell_type": "markdown",
   "metadata": {},
   "source": [
    "---\n",
    "## 2.4 Learning movie recommendations"
   ]
  },
  {
   "cell_type": "markdown",
   "metadata": {},
   "source": [
    "### 2.4.1 Add my ratings"
   ]
  },
  {
   "cell_type": "code",
   "execution_count": 73,
   "metadata": {},
   "outputs": [
    {
     "data": {
      "text/plain": [
       "(1682, 943)"
      ]
     },
     "execution_count": 73,
     "metadata": {},
     "output_type": "execute_result"
    }
   ],
   "source": [
    "Y = mat['Y'] #row: movies, col: people\n",
    "Y.shape"
   ]
  },
  {
   "cell_type": "code",
   "execution_count": 74,
   "metadata": {},
   "outputs": [
    {
     "data": {
      "text/plain": [
       "(1682, 943)"
      ]
     },
     "execution_count": 74,
     "metadata": {},
     "output_type": "execute_result"
    }
   ],
   "source": [
    "R = mat['R'] #row: movies, col: people\n",
    "R.shape"
   ]
  },
  {
   "cell_type": "code",
   "execution_count": 32,
   "metadata": {},
   "outputs": [],
   "source": [
    "f = open(\"movie_ids.txt\", mode =\"r\", encoding=\"ISO-8859-1\")"
   ]
  },
  {
   "cell_type": "code",
   "execution_count": 33,
   "metadata": {},
   "outputs": [],
   "source": [
    "movielist = []\n",
    "for s in f.readlines():\n",
    "    movielist.append(s.strip('\\n'))"
   ]
  },
  {
   "cell_type": "code",
   "execution_count": 34,
   "metadata": {},
   "outputs": [
    {
     "data": {
      "text/plain": [
       "['1 Toy Story (1995)',\n",
       " '2 GoldenEye (1995)',\n",
       " '3 Four Rooms (1995)',\n",
       " '4 Get Shorty (1995)',\n",
       " '5 Copycat (1995)',\n",
       " '6 Shanghai Triad (Yao a yao yao dao waipo qiao) (1995)',\n",
       " '7 Twelve Monkeys (1995)',\n",
       " '8 Babe (1995)',\n",
       " '9 Dead Man Walking (1995)',\n",
       " '10 Richard III (1995)',\n",
       " '11 Seven (Se7en) (1995)',\n",
       " '12 Usual Suspects, The (1995)',\n",
       " '13 Mighty Aphrodite (1995)',\n",
       " '14 Postino, Il (1994)',\n",
       " \"15 Mr. Holland's Opus (1995)\",\n",
       " '16 French Twist (Gazon maudit) (1995)',\n",
       " '17 From Dusk Till Dawn (1996)',\n",
       " '18 White Balloon, The (1995)',\n",
       " \"19 Antonia's Line (1995)\",\n",
       " '20 Angels and Insects (1995)',\n",
       " '21 Muppet Treasure Island (1996)',\n",
       " '22 Braveheart (1995)',\n",
       " '23 Taxi Driver (1976)',\n",
       " '24 Rumble in the Bronx (1995)',\n",
       " '25 Birdcage, The (1996)',\n",
       " '26 Brothers McMullen, The (1995)',\n",
       " '27 Bad Boys (1995)',\n",
       " '28 Apollo 13 (1995)',\n",
       " '29 Batman Forever (1995)',\n",
       " '30 Belle de jour (1967)',\n",
       " '31 Crimson Tide (1995)',\n",
       " '32 Crumb (1994)',\n",
       " '33 Desperado (1995)',\n",
       " '34 Doom Generation, The (1995)',\n",
       " '35 Free Willy 2: The Adventure Home (1995)',\n",
       " '36 Mad Love (1995)',\n",
       " '37 Nadja (1994)',\n",
       " '38 Net, The (1995)',\n",
       " '39 Strange Days (1995)',\n",
       " '40 To Wong Foo, Thanks for Everything! Julie Newmar (1995)',\n",
       " '41 Billy Madison (1995)',\n",
       " '42 Clerks (1994)',\n",
       " '43 Disclosure (1994)',\n",
       " '44 Dolores Claiborne (1994)',\n",
       " '45 Eat Drink Man Woman (1994)',\n",
       " '46 Exotica (1994)',\n",
       " '47 Ed Wood (1994)',\n",
       " '48 Hoop Dreams (1994)',\n",
       " '49 I.Q. (1994)',\n",
       " '50 Star Wars (1977)',\n",
       " '51 Legends of the Fall (1994)',\n",
       " '52 Madness of King George, The (1994)',\n",
       " '53 Natural Born Killers (1994)',\n",
       " '54 Outbreak (1995)',\n",
       " '55 Professional, The (1994)',\n",
       " '56 Pulp Fiction (1994)',\n",
       " '57 Priest (1994)',\n",
       " '58 Quiz Show (1994)',\n",
       " '59 Three Colors: Red (1994)',\n",
       " '60 Three Colors: Blue (1993)',\n",
       " '61 Three Colors: White (1994)',\n",
       " '62 Stargate (1994)',\n",
       " '63 Santa Clause, The (1994)',\n",
       " '64 Shawshank Redemption, The (1994)',\n",
       " \"65 What's Eating Gilbert Grape (1993)\",\n",
       " '66 While You Were Sleeping (1995)',\n",
       " '67 Ace Ventura: Pet Detective (1994)',\n",
       " '68 Crow, The (1994)',\n",
       " '69 Forrest Gump (1994)',\n",
       " '70 Four Weddings and a Funeral (1994)',\n",
       " '71 Lion King, The (1994)',\n",
       " '72 Mask, The (1994)',\n",
       " '73 Maverick (1994)',\n",
       " '74 Faster Pussycat! Kill! Kill! (1965)',\n",
       " '75 Brother Minister: The Assassination of Malcolm X (1994)',\n",
       " \"76 Carlito's Way (1993)\",\n",
       " '77 Firm, The (1993)',\n",
       " '78 Free Willy (1993)',\n",
       " '79 Fugitive, The (1993)',\n",
       " '80 Hot Shots! Part Deux (1993)',\n",
       " '81 Hudsucker Proxy, The (1994)',\n",
       " '82 Jurassic Park (1993)',\n",
       " '83 Much Ado About Nothing (1993)',\n",
       " \"84 Robert A. Heinlein's The Puppet Masters (1994)\",\n",
       " '85 Ref, The (1994)',\n",
       " '86 Remains of the Day, The (1993)',\n",
       " '87 Searching for Bobby Fischer (1993)',\n",
       " '88 Sleepless in Seattle (1993)',\n",
       " '89 Blade Runner (1982)',\n",
       " '90 So I Married an Axe Murderer (1993)',\n",
       " '91 Nightmare Before Christmas, The (1993)',\n",
       " '92 True Romance (1993)',\n",
       " '93 Welcome to the Dollhouse (1995)',\n",
       " '94 Home Alone (1990)',\n",
       " '95 Aladdin (1992)',\n",
       " '96 Terminator 2: Judgment Day (1991)',\n",
       " '97 Dances with Wolves (1990)',\n",
       " '98 Silence of the Lambs, The (1991)',\n",
       " '99 Snow White and the Seven Dwarfs (1937)',\n",
       " '100 Fargo (1996)',\n",
       " '101 Heavy Metal (1981)',\n",
       " '102 Aristocats, The (1970)',\n",
       " '103 All Dogs Go to Heaven 2 (1996)',\n",
       " '104 Theodore Rex (1995)',\n",
       " '105 Sgt. Bilko (1996)',\n",
       " '106 Diabolique (1996)',\n",
       " '107 Moll Flanders (1996)',\n",
       " '108 Kids in the Hall: Brain Candy (1996)',\n",
       " '109 Mystery Science Theater 3000: The Movie (1996)',\n",
       " '110 Operation Dumbo Drop (1995)',\n",
       " '111 Truth About Cats & Dogs, The (1996)',\n",
       " '112 Flipper (1996)',\n",
       " '113 Horseman on the Roof, The (Hussard sur le toit, Le) (1995)',\n",
       " '114 Wallace & Gromit: The Best of Aardman Animation (1996)',\n",
       " '115 Haunted World of Edward D. Wood Jr., The (1995)',\n",
       " '116 Cold Comfort Farm (1995)',\n",
       " '117 Rock, The (1996)',\n",
       " '118 Twister (1996)',\n",
       " '119 Maya Lin: A Strong Clear Vision (1994)',\n",
       " '120 Striptease (1996)',\n",
       " '121 Independence Day (ID4) (1996)',\n",
       " '122 Cable Guy, The (1996)',\n",
       " '123 Frighteners, The (1996)',\n",
       " '124 Lone Star (1996)',\n",
       " '125 Phenomenon (1996)',\n",
       " '126 Spitfire Grill, The (1996)',\n",
       " '127 Godfather, The (1972)',\n",
       " '128 Supercop (1992)',\n",
       " '129 Bound (1996)',\n",
       " '130 Kansas City (1996)',\n",
       " \"131 Breakfast at Tiffany's (1961)\",\n",
       " '132 Wizard of Oz, The (1939)',\n",
       " '133 Gone with the Wind (1939)',\n",
       " '134 Citizen Kane (1941)',\n",
       " '135 2001: A Space Odyssey (1968)',\n",
       " '136 Mr. Smith Goes to Washington (1939)',\n",
       " '137 Big Night (1996)',\n",
       " '138 D3: The Mighty Ducks (1996)',\n",
       " '139 Love Bug, The (1969)',\n",
       " '140 Homeward Bound: The Incredible Journey (1993)',\n",
       " '141 20,000 Leagues Under the Sea (1954)',\n",
       " '142 Bedknobs and Broomsticks (1971)',\n",
       " '143 Sound of Music, The (1965)',\n",
       " '144 Die Hard (1988)',\n",
       " '145 Lawnmower Man, The (1992)',\n",
       " '146 Unhook the Stars (1996)',\n",
       " '147 Long Kiss Goodnight, The (1996)',\n",
       " '148 Ghost and the Darkness, The (1996)',\n",
       " '149 Jude (1996)',\n",
       " '150 Swingers (1996)',\n",
       " '151 Willy Wonka and the Chocolate Factory (1971)',\n",
       " '152 Sleeper (1973)',\n",
       " '153 Fish Called Wanda, A (1988)',\n",
       " \"154 Monty Python's Life of Brian (1979)\",\n",
       " '155 Dirty Dancing (1987)',\n",
       " '156 Reservoir Dogs (1992)',\n",
       " '157 Platoon (1986)',\n",
       " \"158 Weekend at Bernie's (1989)\",\n",
       " '159 Basic Instinct (1992)',\n",
       " '160 Glengarry Glen Ross (1992)',\n",
       " '161 Top Gun (1986)',\n",
       " '162 On Golden Pond (1981)',\n",
       " '163 Return of the Pink Panther, The (1974)',\n",
       " '164 Abyss, The (1989)',\n",
       " '165 Jean de Florette (1986)',\n",
       " '166 Manon of the Spring (Manon des sources) (1986)',\n",
       " '167 Private Benjamin (1980)',\n",
       " '168 Monty Python and the Holy Grail (1974)',\n",
       " '169 Wrong Trousers, The (1993)',\n",
       " '170 Cinema Paradiso (1988)',\n",
       " '171 Delicatessen (1991)',\n",
       " '172 Empire Strikes Back, The (1980)',\n",
       " '173 Princess Bride, The (1987)',\n",
       " '174 Raiders of the Lost Ark (1981)',\n",
       " '175 Brazil (1985)',\n",
       " '176 Aliens (1986)',\n",
       " '177 Good, The Bad and The Ugly, The (1966)',\n",
       " '178 12 Angry Men (1957)',\n",
       " '179 Clockwork Orange, A (1971)',\n",
       " '180 Apocalypse Now (1979)',\n",
       " '181 Return of the Jedi (1983)',\n",
       " '182 GoodFellas (1990)',\n",
       " '183 Alien (1979)',\n",
       " '184 Army of Darkness (1993)',\n",
       " '185 Psycho (1960)',\n",
       " '186 Blues Brothers, The (1980)',\n",
       " '187 Godfather: Part II, The (1974)',\n",
       " '188 Full Metal Jacket (1987)',\n",
       " '189 Grand Day Out, A (1992)',\n",
       " '190 Henry V (1989)',\n",
       " '191 Amadeus (1984)',\n",
       " '192 Raging Bull (1980)',\n",
       " '193 Right Stuff, The (1983)',\n",
       " '194 Sting, The (1973)',\n",
       " '195 Terminator, The (1984)',\n",
       " '196 Dead Poets Society (1989)',\n",
       " '197 Graduate, The (1967)',\n",
       " '198 Nikita (La Femme Nikita) (1990)',\n",
       " '199 Bridge on the River Kwai, The (1957)',\n",
       " '200 Shining, The (1980)',\n",
       " '201 Evil Dead II (1987)',\n",
       " '202 Groundhog Day (1993)',\n",
       " '203 Unforgiven (1992)',\n",
       " '204 Back to the Future (1985)',\n",
       " '205 Patton (1970)',\n",
       " '206 Akira (1988)',\n",
       " '207 Cyrano de Bergerac (1990)',\n",
       " '208 Young Frankenstein (1974)',\n",
       " '209 This Is Spinal Tap (1984)',\n",
       " '210 Indiana Jones and the Last Crusade (1989)',\n",
       " '211 M*A*S*H (1970)',\n",
       " '212 Unbearable Lightness of Being, The (1988)',\n",
       " '213 Room with a View, A (1986)',\n",
       " '214 Pink Floyd - The Wall (1982)',\n",
       " '215 Field of Dreams (1989)',\n",
       " '216 When Harry Met Sally... (1989)',\n",
       " \"217 Bram Stoker's Dracula (1992)\",\n",
       " '218 Cape Fear (1991)',\n",
       " '219 Nightmare on Elm Street, A (1984)',\n",
       " '220 Mirror Has Two Faces, The (1996)',\n",
       " '221 Breaking the Waves (1996)',\n",
       " '222 Star Trek: First Contact (1996)',\n",
       " '223 Sling Blade (1996)',\n",
       " '224 Ridicule (1996)',\n",
       " '225 101 Dalmatians (1996)',\n",
       " '226 Die Hard 2 (1990)',\n",
       " '227 Star Trek VI: The Undiscovered Country (1991)',\n",
       " '228 Star Trek: The Wrath of Khan (1982)',\n",
       " '229 Star Trek III: The Search for Spock (1984)',\n",
       " '230 Star Trek IV: The Voyage Home (1986)',\n",
       " '231 Batman Returns (1992)',\n",
       " '232 Young Guns (1988)',\n",
       " '233 Under Siege (1992)',\n",
       " '234 Jaws (1975)',\n",
       " '235 Mars Attacks! (1996)',\n",
       " '236 Citizen Ruth (1996)',\n",
       " '237 Jerry Maguire (1996)',\n",
       " '238 Raising Arizona (1987)',\n",
       " '239 Sneakers (1992)',\n",
       " '240 Beavis and Butt-head Do America (1996)',\n",
       " '241 Last of the Mohicans, The (1992)',\n",
       " '242 Kolya (1996)',\n",
       " '243 Jungle2Jungle (1997)',\n",
       " \"244 Smilla's Sense of Snow (1997)\",\n",
       " \"245 Devil's Own, The (1997)\",\n",
       " '246 Chasing Amy (1997)',\n",
       " '247 Turbo: A Power Rangers Movie (1997)',\n",
       " '248 Grosse Pointe Blank (1997)',\n",
       " '249 Austin Powers: International Man of Mystery (1997)',\n",
       " '250 Fifth Element, The (1997)',\n",
       " '251 Shall We Dance? (1996)',\n",
       " '252 Lost World: Jurassic Park, The (1997)',\n",
       " '253 Pillow Book, The (1995)',\n",
       " '254 Batman & Robin (1997)',\n",
       " \"255 My Best Friend's Wedding (1997)\",\n",
       " '256 When the Cats Away (Chacun cherche son chat) (1996)',\n",
       " '257 Men in Black (1997)',\n",
       " '258 Contact (1997)',\n",
       " '259 George of the Jungle (1997)',\n",
       " '260 Event Horizon (1997)',\n",
       " '261 Air Bud (1997)',\n",
       " '262 In the Company of Men (1997)',\n",
       " '263 Steel (1997)',\n",
       " '264 Mimic (1997)',\n",
       " '265 Hunt for Red October, The (1990)',\n",
       " '266 Kull the Conqueror (1997)',\n",
       " '267 unknown',\n",
       " '268 Chasing Amy (1997)',\n",
       " '269 Full Monty, The (1997)',\n",
       " '270 Gattaca (1997)',\n",
       " '271 Starship Troopers (1997)',\n",
       " '272 Good Will Hunting (1997)',\n",
       " '273 Heat (1995)',\n",
       " '274 Sabrina (1995)',\n",
       " '275 Sense and Sensibility (1995)',\n",
       " '276 Leaving Las Vegas (1995)',\n",
       " '277 Restoration (1995)',\n",
       " '278 Bed of Roses (1996)',\n",
       " '279 Once Upon a Time... When We Were Colored (1995)',\n",
       " '280 Up Close and Personal (1996)',\n",
       " '281 River Wild, The (1994)',\n",
       " '282 Time to Kill, A (1996)',\n",
       " '283 Emma (1996)',\n",
       " '284 Tin Cup (1996)',\n",
       " '285 Secrets & Lies (1996)',\n",
       " '286 English Patient, The (1996)',\n",
       " \"287 Marvin's Room (1996)\",\n",
       " '288 Scream (1996)',\n",
       " '289 Evita (1996)',\n",
       " '290 Fierce Creatures (1997)',\n",
       " '291 Absolute Power (1997)',\n",
       " '292 Rosewood (1997)',\n",
       " '293 Donnie Brasco (1997)',\n",
       " '294 Liar Liar (1997)',\n",
       " '295 Breakdown (1997)',\n",
       " '296 Promesse, La (1996)',\n",
       " \"297 Ulee's Gold (1997)\",\n",
       " '298 Face/Off (1997)',\n",
       " '299 Hoodlum (1997)',\n",
       " '300 Air Force One (1997)',\n",
       " '301 In & Out (1997)',\n",
       " '302 L.A. Confidential (1997)',\n",
       " \"303 Ulee's Gold (1997)\",\n",
       " '304 Fly Away Home (1996)',\n",
       " '305 Ice Storm, The (1997)',\n",
       " '306 Mrs. Brown (Her Majesty, Mrs. Brown) (1997)',\n",
       " \"307 Devil's Advocate, The (1997)\",\n",
       " '308 FairyTale: A True Story (1997)',\n",
       " '309 Deceiver (1997)',\n",
       " '310 Rainmaker, The (1997)',\n",
       " '311 Wings of the Dove, The (1997)',\n",
       " '312 Midnight in the Garden of Good and Evil (1997)',\n",
       " '313 Titanic (1997)',\n",
       " '314 3 Ninjas: High Noon At Mega Mountain (1998)',\n",
       " '315 Apt Pupil (1998)',\n",
       " '316 As Good As It Gets (1997)',\n",
       " '317 In the Name of the Father (1993)',\n",
       " \"318 Schindler's List (1993)\",\n",
       " '319 Everyone Says I Love You (1996)',\n",
       " '320 Paradise Lost: The Child Murders at Robin Hood Hills (1996)',\n",
       " '321 Mother (1996)',\n",
       " '322 Murder at 1600 (1997)',\n",
       " \"323 Dante's Peak (1997)\",\n",
       " '324 Lost Highway (1997)',\n",
       " '325 Crash (1996)',\n",
       " '326 G.I. Jane (1997)',\n",
       " '327 Cop Land (1997)',\n",
       " '328 Conspiracy Theory (1997)',\n",
       " '329 Desperate Measures (1998)',\n",
       " '330 187 (1997)',\n",
       " '331 Edge, The (1997)',\n",
       " '332 Kiss the Girls (1997)',\n",
       " '333 Game, The (1997)',\n",
       " '334 U Turn (1997)',\n",
       " '335 How to Be a Player (1997)',\n",
       " '336 Playing God (1997)',\n",
       " '337 House of Yes, The (1997)',\n",
       " '338 Bean (1997)',\n",
       " '339 Mad City (1997)',\n",
       " '340 Boogie Nights (1997)',\n",
       " '341 Critical Care (1997)',\n",
       " '342 Man Who Knew Too Little, The (1997)',\n",
       " '343 Alien: Resurrection (1997)',\n",
       " '344 Apostle, The (1997)',\n",
       " '345 Deconstructing Harry (1997)',\n",
       " '346 Jackie Brown (1997)',\n",
       " '347 Wag the Dog (1997)',\n",
       " '348 Desperate Measures (1998)',\n",
       " '349 Hard Rain (1998)',\n",
       " '350 Fallen (1998)',\n",
       " '351 Prophecy II, The (1998)',\n",
       " '352 Spice World (1997)',\n",
       " '353 Deep Rising (1998)',\n",
       " '354 Wedding Singer, The (1998)',\n",
       " '355 Sphere (1998)',\n",
       " '356 Client, The (1994)',\n",
       " \"357 One Flew Over the Cuckoo's Nest (1975)\",\n",
       " '358 Spawn (1997)',\n",
       " '359 Assignment, The (1997)',\n",
       " '360 Wonderland (1997)',\n",
       " '361 Incognito (1997)',\n",
       " '362 Blues Brothers 2000 (1998)',\n",
       " '363 Sudden Death (1995)',\n",
       " '364 Ace Ventura: When Nature Calls (1995)',\n",
       " '365 Powder (1995)',\n",
       " '366 Dangerous Minds (1995)',\n",
       " '367 Clueless (1995)',\n",
       " '368 Bio-Dome (1996)',\n",
       " '369 Black Sheep (1996)',\n",
       " '370 Mary Reilly (1996)',\n",
       " '371 Bridges of Madison County, The (1995)',\n",
       " '372 Jeffrey (1995)',\n",
       " '373 Judge Dredd (1995)',\n",
       " '374 Mighty Morphin Power Rangers: The Movie (1995)',\n",
       " '375 Showgirls (1995)',\n",
       " '376 Houseguest (1994)',\n",
       " '377 Heavyweights (1994)',\n",
       " '378 Miracle on 34th Street (1994)',\n",
       " '379 Tales From the Crypt Presents: Demon Knight (1995)',\n",
       " '380 Star Trek: Generations (1994)',\n",
       " \"381 Muriel's Wedding (1994)\",\n",
       " '382 Adventures of Priscilla, Queen of the Desert, The (1994)',\n",
       " '383 Flintstones, The (1994)',\n",
       " '384 Naked Gun 33 1/3: The Final Insult (1994)',\n",
       " '385 True Lies (1994)',\n",
       " '386 Addams Family Values (1993)',\n",
       " '387 Age of Innocence, The (1993)',\n",
       " '388 Beverly Hills Cop III (1994)',\n",
       " '389 Black Beauty (1994)',\n",
       " '390 Fear of a Black Hat (1993)',\n",
       " '391 Last Action Hero (1993)',\n",
       " '392 Man Without a Face, The (1993)',\n",
       " '393 Mrs. Doubtfire (1993)',\n",
       " '394 Radioland Murders (1994)',\n",
       " '395 Robin Hood: Men in Tights (1993)',\n",
       " '396 Serial Mom (1994)',\n",
       " '397 Striking Distance (1993)',\n",
       " '398 Super Mario Bros. (1993)',\n",
       " '399 Three Musketeers, The (1993)',\n",
       " '400 Little Rascals, The (1994)',\n",
       " '401 Brady Bunch Movie, The (1995)',\n",
       " '402 Ghost (1990)',\n",
       " '403 Batman (1989)',\n",
       " '404 Pinocchio (1940)',\n",
       " '405 Mission: Impossible (1996)',\n",
       " '406 Thinner (1996)',\n",
       " '407 Spy Hard (1996)',\n",
       " '408 Close Shave, A (1995)',\n",
       " '409 Jack (1996)',\n",
       " '410 Kingpin (1996)',\n",
       " '411 Nutty Professor, The (1996)',\n",
       " '412 Very Brady Sequel, A (1996)',\n",
       " '413 Tales from the Crypt Presents: Bordello of Blood (1996)',\n",
       " '414 My Favorite Year (1982)',\n",
       " '415 Apple Dumpling Gang, The (1975)',\n",
       " '416 Old Yeller (1957)',\n",
       " '417 Parent Trap, The (1961)',\n",
       " '418 Cinderella (1950)',\n",
       " '419 Mary Poppins (1964)',\n",
       " '420 Alice in Wonderland (1951)',\n",
       " \"421 William Shakespeare's Romeo and Juliet (1996)\",\n",
       " '422 Aladdin and the King of Thieves (1996)',\n",
       " '423 E.T. the Extra-Terrestrial (1982)',\n",
       " '424 Children of the Corn: The Gathering (1996)',\n",
       " '425 Bob Roberts (1992)',\n",
       " '426 Transformers: The Movie, The (1986)',\n",
       " '427 To Kill a Mockingbird (1962)',\n",
       " '428 Harold and Maude (1971)',\n",
       " '429 Day the Earth Stood Still, The (1951)',\n",
       " '430 Duck Soup (1933)',\n",
       " '431 Highlander (1986)',\n",
       " '432 Fantasia (1940)',\n",
       " '433 Heathers (1989)',\n",
       " '434 Forbidden Planet (1956)',\n",
       " '435 Butch Cassidy and the Sundance Kid (1969)',\n",
       " '436 American Werewolf in London, An (1981)',\n",
       " \"437 Amityville 1992: It's About Time (1992)\",\n",
       " '438 Amityville 3-D (1983)',\n",
       " '439 Amityville: A New Generation (1993)',\n",
       " '440 Amityville II: The Possession (1982)',\n",
       " '441 Amityville Horror, The (1979)',\n",
       " '442 Amityville Curse, The (1990)',\n",
       " '443 Birds, The (1963)',\n",
       " '444 Blob, The (1958)',\n",
       " '445 Body Snatcher, The (1945)',\n",
       " '446 Burnt Offerings (1976)',\n",
       " '447 Carrie (1976)',\n",
       " '448 Omen, The (1976)',\n",
       " '449 Star Trek: The Motion Picture (1979)',\n",
       " '450 Star Trek V: The Final Frontier (1989)',\n",
       " '451 Grease (1978)',\n",
       " '452 Jaws 2 (1978)',\n",
       " '453 Jaws 3-D (1983)',\n",
       " '454 Bastard Out of Carolina (1996)',\n",
       " \"455 Jackie Chan's First Strike (1996)\",\n",
       " '456 Beverly Hills Ninja (1997)',\n",
       " '457 Free Willy 3: The Rescue (1997)',\n",
       " '458 Nixon (1995)',\n",
       " '459 Cry, the Beloved Country (1995)',\n",
       " '460 Crossing Guard, The (1995)',\n",
       " '461 Smoke (1995)',\n",
       " '462 Like Water For Chocolate (Como agua para chocolate) (1992)',\n",
       " '463 Secret of Roan Inish, The (1994)',\n",
       " '464 Vanya on 42nd Street (1994)',\n",
       " '465 Jungle Book, The (1994)',\n",
       " '466 Red Rock West (1992)',\n",
       " '467 Bronx Tale, A (1993)',\n",
       " '468 Rudy (1993)',\n",
       " '469 Short Cuts (1993)',\n",
       " '470 Tombstone (1993)',\n",
       " '471 Courage Under Fire (1996)',\n",
       " '472 Dragonheart (1996)',\n",
       " '473 James and the Giant Peach (1996)',\n",
       " '474 Dr. Strangelove or: How I Learned to Stop Worrying and Love the Bomb (1963)',\n",
       " '475 Trainspotting (1996)',\n",
       " '476 First Wives Club, The (1996)',\n",
       " '477 Matilda (1996)',\n",
       " '478 Philadelphia Story, The (1940)',\n",
       " '479 Vertigo (1958)',\n",
       " '480 North by Northwest (1959)',\n",
       " '481 Apartment, The (1960)',\n",
       " '482 Some Like It Hot (1959)',\n",
       " '483 Casablanca (1942)',\n",
       " '484 Maltese Falcon, The (1941)',\n",
       " '485 My Fair Lady (1964)',\n",
       " '486 Sabrina (1954)',\n",
       " '487 Roman Holiday (1953)',\n",
       " '488 Sunset Blvd. (1950)',\n",
       " '489 Notorious (1946)',\n",
       " '490 To Catch a Thief (1955)',\n",
       " '491 Adventures of Robin Hood, The (1938)',\n",
       " '492 East of Eden (1955)',\n",
       " '493 Thin Man, The (1934)',\n",
       " '494 His Girl Friday (1940)',\n",
       " '495 Around the World in 80 Days (1956)',\n",
       " \"496 It's a Wonderful Life (1946)\",\n",
       " '497 Bringing Up Baby (1938)',\n",
       " '498 African Queen, The (1951)',\n",
       " '499 Cat on a Hot Tin Roof (1958)',\n",
       " '500 Fly Away Home (1996)',\n",
       " '501 Dumbo (1941)',\n",
       " '502 Bananas (1971)',\n",
       " '503 Candidate, The (1972)',\n",
       " '504 Bonnie and Clyde (1967)',\n",
       " '505 Dial M for Murder (1954)',\n",
       " '506 Rebel Without a Cause (1955)',\n",
       " '507 Streetcar Named Desire, A (1951)',\n",
       " '508 People vs. Larry Flynt, The (1996)',\n",
       " '509 My Left Foot (1989)',\n",
       " '510 Magnificent Seven, The (1954)',\n",
       " '511 Lawrence of Arabia (1962)',\n",
       " '512 Wings of Desire (1987)',\n",
       " '513 Third Man, The (1949)',\n",
       " '514 Annie Hall (1977)',\n",
       " '515 Boot, Das (1981)',\n",
       " '516 Local Hero (1983)',\n",
       " '517 Manhattan (1979)',\n",
       " \"518 Miller's Crossing (1990)\",\n",
       " '519 Treasure of the Sierra Madre, The (1948)',\n",
       " '520 Great Escape, The (1963)',\n",
       " '521 Deer Hunter, The (1978)',\n",
       " '522 Down by Law (1986)',\n",
       " '523 Cool Hand Luke (1967)',\n",
       " '524 Great Dictator, The (1940)',\n",
       " '525 Big Sleep, The (1946)',\n",
       " '526 Ben-Hur (1959)',\n",
       " '527 Gandhi (1982)',\n",
       " '528 Killing Fields, The (1984)',\n",
       " '529 My Life as a Dog (Mitt liv som hund) (1985)',\n",
       " '530 Man Who Would Be King, The (1975)',\n",
       " '531 Shine (1996)',\n",
       " '532 Kama Sutra: A Tale of Love (1996)',\n",
       " '533 Daytrippers, The (1996)',\n",
       " '534 Traveller (1997)',\n",
       " '535 Addicted to Love (1997)',\n",
       " '536 Ponette (1996)',\n",
       " '537 My Own Private Idaho (1991)',\n",
       " '538 Anastasia (1997)',\n",
       " '539 Mouse Hunt (1997)',\n",
       " '540 Money Train (1995)',\n",
       " '541 Mortal Kombat (1995)',\n",
       " '542 Pocahontas (1995)',\n",
       " '543 Misérables, Les (1995)',\n",
       " \"544 Things to Do in Denver when You're Dead (1995)\",\n",
       " '545 Vampire in Brooklyn (1995)',\n",
       " '546 Broken Arrow (1996)',\n",
       " \"547 Young Poisoner's Handbook, The (1995)\",\n",
       " '548 NeverEnding Story III, The (1994)',\n",
       " '549 Rob Roy (1995)',\n",
       " '550 Die Hard: With a Vengeance (1995)',\n",
       " '551 Lord of Illusions (1995)',\n",
       " '552 Species (1995)',\n",
       " '553 Walk in the Clouds, A (1995)',\n",
       " '554 Waterworld (1995)',\n",
       " \"555 White Man's Burden (1995)\",\n",
       " '556 Wild Bill (1995)',\n",
       " '557 Farinelli: il castrato (1994)',\n",
       " '558 Heavenly Creatures (1994)',\n",
       " '559 Interview with the Vampire (1994)',\n",
       " \"560 Kid in King Arthur's Court, A (1995)\",\n",
       " \"561 Mary Shelley's Frankenstein (1994)\",\n",
       " '562 Quick and the Dead, The (1995)',\n",
       " \"563 Stephen King's The Langoliers (1995)\",\n",
       " '564 Tales from the Hood (1995)',\n",
       " '565 Village of the Damned (1995)',\n",
       " '566 Clear and Present Danger (1994)',\n",
       " \"567 Wes Craven's New Nightmare (1994)\",\n",
       " '568 Speed (1994)',\n",
       " '569 Wolf (1994)',\n",
       " '570 Wyatt Earp (1994)',\n",
       " '571 Another Stakeout (1993)',\n",
       " '572 Blown Away (1994)',\n",
       " '573 Body Snatchers (1993)',\n",
       " '574 Boxing Helena (1993)',\n",
       " \"575 City Slickers II: The Legend of Curly's Gold (1994)\",\n",
       " '576 Cliffhanger (1993)',\n",
       " '577 Coneheads (1993)',\n",
       " '578 Demolition Man (1993)',\n",
       " '579 Fatal Instinct (1993)',\n",
       " '580 Englishman Who Went Up a Hill, But Came Down a Mountain, The (1995)',\n",
       " '581 Kalifornia (1993)',\n",
       " '582 Piano, The (1993)',\n",
       " '583 Romeo Is Bleeding (1993)',\n",
       " '584 Secret Garden, The (1993)',\n",
       " '585 Son in Law (1993)',\n",
       " '586 Terminal Velocity (1994)',\n",
       " '587 Hour of the Pig, The (1993)',\n",
       " '588 Beauty and the Beast (1991)',\n",
       " '589 Wild Bunch, The (1969)',\n",
       " '590 Hellraiser: Bloodline (1996)',\n",
       " '591 Primal Fear (1996)',\n",
       " '592 True Crime (1995)',\n",
       " '593 Stalingrad (1993)',\n",
       " '594 Heavy (1995)',\n",
       " '595 Fan, The (1996)',\n",
       " '596 Hunchback of Notre Dame, The (1996)',\n",
       " '597 Eraser (1996)',\n",
       " '598 Big Squeeze, The (1996)',\n",
       " '599 Police Story 4: Project S (Chao ji ji hua) (1993)',\n",
       " \"600 Daniel Defoe's Robinson Crusoe (1996)\",\n",
       " '601 For Whom the Bell Tolls (1943)',\n",
       " '602 American in Paris, An (1951)',\n",
       " '603 Rear Window (1954)',\n",
       " '604 It Happened One Night (1934)',\n",
       " '605 Meet Me in St. Louis (1944)',\n",
       " '606 All About Eve (1950)',\n",
       " '607 Rebecca (1940)',\n",
       " '608 Spellbound (1945)',\n",
       " '609 Father of the Bride (1950)',\n",
       " '610 Gigi (1958)',\n",
       " '611 Laura (1944)',\n",
       " '612 Lost Horizon (1937)',\n",
       " '613 My Man Godfrey (1936)',\n",
       " '614 Giant (1956)',\n",
       " '615 39 Steps, The (1935)',\n",
       " '616 Night of the Living Dead (1968)',\n",
       " '617 Blue Angel, The (Blaue Engel, Der) (1930)',\n",
       " '618 Picnic (1955)',\n",
       " '619 Extreme Measures (1996)',\n",
       " '620 Chamber, The (1996)',\n",
       " '621 Davy Crockett, King of the Wild Frontier (1955)',\n",
       " '622 Swiss Family Robinson (1960)',\n",
       " '623 Angels in the Outfield (1994)',\n",
       " '624 Three Caballeros, The (1945)',\n",
       " '625 Sword in the Stone, The (1963)',\n",
       " '626 So Dear to My Heart (1949)',\n",
       " '627 Robin Hood: Prince of Thieves (1991)',\n",
       " '628 Sleepers (1996)',\n",
       " '629 Victor/Victoria (1982)',\n",
       " '630 Great Race, The (1965)',\n",
       " '631 Crying Game, The (1992)',\n",
       " \"632 Sophie's Choice (1982)\",\n",
       " '633 Christmas Carol, A (1938)',\n",
       " \"634 Microcosmos: Le peuple de l'herbe (1996)\",\n",
       " '635 Fog, The (1980)',\n",
       " '636 Escape from New York (1981)',\n",
       " '637 Howling, The (1981)',\n",
       " '638 Return of Martin Guerre, The (Retour de Martin Guerre, Le) (1982)',\n",
       " '639 Tin Drum, The (Blechtrommel, Die) (1979)',\n",
       " '640 Cook the Thief His Wife & Her Lover, The (1989)',\n",
       " '641 Paths of Glory (1957)',\n",
       " '642 Grifters, The (1990)',\n",
       " '643 The Innocent (1994)',\n",
       " '644 Thin Blue Line, The (1988)',\n",
       " '645 Paris Is Burning (1990)',\n",
       " '646 Once Upon a Time in the West (1969)',\n",
       " '647 Ran (1985)',\n",
       " '648 Quiet Man, The (1952)',\n",
       " '649 Once Upon a Time in America (1984)',\n",
       " '650 Seventh Seal, The (Sjunde inseglet, Det) (1957)',\n",
       " '651 Glory (1989)',\n",
       " '652 Rosencrantz and Guildenstern Are Dead (1990)',\n",
       " '653 Touch of Evil (1958)',\n",
       " '654 Chinatown (1974)',\n",
       " '655 Stand by Me (1986)',\n",
       " '656 M (1931)',\n",
       " '657 Manchurian Candidate, The (1962)',\n",
       " '658 Pump Up the Volume (1990)',\n",
       " '659 Arsenic and Old Lace (1944)',\n",
       " '660 Fried Green Tomatoes (1991)',\n",
       " '661 High Noon (1952)',\n",
       " '662 Somewhere in Time (1980)',\n",
       " '663 Being There (1979)',\n",
       " '664 Paris, Texas (1984)',\n",
       " '665 Alien 3 (1992)',\n",
       " \"666 Blood For Dracula (Andy Warhol's Dracula) (1974)\",\n",
       " '667 Audrey Rose (1977)',\n",
       " '668 Blood Beach (1981)',\n",
       " '669 Body Parts (1991)',\n",
       " '670 Body Snatchers (1993)',\n",
       " '671 Bride of Frankenstein (1935)',\n",
       " '672 Candyman (1992)',\n",
       " '673 Cape Fear (1962)',\n",
       " '674 Cat People (1982)',\n",
       " '675 Nosferatu (Nosferatu, eine Symphonie des Grauens) (1922)',\n",
       " '676 Crucible, The (1996)',\n",
       " '677 Fire on the Mountain (1996)',\n",
       " '678 Volcano (1997)',\n",
       " '679 Conan the Barbarian (1981)',\n",
       " '680 Kull the Conqueror (1997)',\n",
       " '681 Wishmaster (1997)',\n",
       " '682 I Know What You Did Last Summer (1997)',\n",
       " '683 Rocket Man (1997)',\n",
       " '684 In the Line of Fire (1993)',\n",
       " '685 Executive Decision (1996)',\n",
       " '686 Perfect World, A (1993)',\n",
       " \"687 McHale's Navy (1997)\",\n",
       " '688 Leave It to Beaver (1997)',\n",
       " '689 Jackal, The (1997)',\n",
       " '690 Seven Years in Tibet (1997)',\n",
       " '691 Dark City (1998)',\n",
       " '692 American President, The (1995)',\n",
       " '693 Casino (1995)',\n",
       " '694 Persuasion (1995)',\n",
       " '695 Kicking and Screaming (1995)',\n",
       " '696 City Hall (1996)',\n",
       " '697 Basketball Diaries, The (1995)',\n",
       " '698 Browning Version, The (1994)',\n",
       " '699 Little Women (1994)',\n",
       " '700 Miami Rhapsody (1995)',\n",
       " '701 Wonderful, Horrible Life of Leni Riefenstahl, The (1993)',\n",
       " '702 Barcelona (1994)',\n",
       " \"703 Widows' Peak (1994)\",\n",
       " '704 House of the Spirits, The (1993)',\n",
       " \"705 Singin' in the Rain (1952)\",\n",
       " '706 Bad Moon (1996)',\n",
       " '707 Enchanted April (1991)',\n",
       " '708 Sex, Lies, and Videotape (1989)',\n",
       " '709 Strictly Ballroom (1992)',\n",
       " '710 Better Off Dead... (1985)',\n",
       " '711 Substance of Fire, The (1996)',\n",
       " '712 Tin Men (1987)',\n",
       " '713 Othello (1995)',\n",
       " '714 Carrington (1995)',\n",
       " '715 To Die For (1995)',\n",
       " '716 Home for the Holidays (1995)',\n",
       " '717 Juror, The (1996)',\n",
       " '718 In the Bleak Midwinter (1995)',\n",
       " '719 Canadian Bacon (1994)',\n",
       " '720 First Knight (1995)',\n",
       " '721 Mallrats (1995)',\n",
       " '722 Nine Months (1995)',\n",
       " '723 Boys on the Side (1995)',\n",
       " '724 Circle of Friends (1995)',\n",
       " '725 Exit to Eden (1994)',\n",
       " '726 Fluke (1995)',\n",
       " '727 Immortal Beloved (1994)',\n",
       " '728 Junior (1994)',\n",
       " '729 Nell (1994)',\n",
       " '730 Queen Margot (Reine Margot, La) (1994)',\n",
       " '731 Corrina, Corrina (1994)',\n",
       " '732 Dave (1993)',\n",
       " '733 Go Fish (1994)',\n",
       " '734 Made in America (1993)',\n",
       " '735 Philadelphia (1993)',\n",
       " '736 Shadowlands (1993)',\n",
       " '737 Sirens (1994)',\n",
       " '738 Threesome (1994)',\n",
       " '739 Pretty Woman (1990)',\n",
       " '740 Jane Eyre (1996)',\n",
       " '741 Last Supper, The (1995)',\n",
       " '742 Ransom (1996)',\n",
       " '743 Crow: City of Angels, The (1996)',\n",
       " '744 Michael Collins (1996)',\n",
       " '745 Ruling Class, The (1972)',\n",
       " '746 Real Genius (1985)',\n",
       " '747 Benny & Joon (1993)',\n",
       " '748 Saint, The (1997)',\n",
       " '749 MatchMaker, The (1997)',\n",
       " '750 Amistad (1997)',\n",
       " '751 Tomorrow Never Dies (1997)',\n",
       " '752 Replacement Killers, The (1998)',\n",
       " '753 Burnt By the Sun (1994)',\n",
       " '754 Red Corner (1997)',\n",
       " '755 Jumanji (1995)',\n",
       " '756 Father of the Bride Part II (1995)',\n",
       " '757 Across the Sea of Time (1995)',\n",
       " '758 Lawnmower Man 2: Beyond Cyberspace (1996)',\n",
       " '759 Fair Game (1995)',\n",
       " '760 Screamers (1995)',\n",
       " '761 Nick of Time (1995)',\n",
       " '762 Beautiful Girls (1996)',\n",
       " '763 Happy Gilmore (1996)',\n",
       " '764 If Lucy Fell (1996)',\n",
       " '765 Boomerang (1992)',\n",
       " '766 Man of the Year (1995)',\n",
       " '767 Addiction, The (1995)',\n",
       " '768 Casper (1995)',\n",
       " '769 Congo (1995)',\n",
       " '770 Devil in a Blue Dress (1995)',\n",
       " '771 Johnny Mnemonic (1995)',\n",
       " '772 Kids (1995)',\n",
       " '773 Mute Witness (1994)',\n",
       " '774 Prophecy, The (1995)',\n",
       " '775 Something to Talk About (1995)',\n",
       " '776 Three Wishes (1995)',\n",
       " '777 Castle Freak (1995)',\n",
       " '778 Don Juan DeMarco (1995)',\n",
       " '779 Drop Zone (1994)',\n",
       " '780 Dumb & Dumber (1994)',\n",
       " '781 French Kiss (1995)',\n",
       " '782 Little Odessa (1994)',\n",
       " '783 Milk Money (1994)',\n",
       " '784 Beyond Bedlam (1993)',\n",
       " '785 Only You (1994)',\n",
       " '786 Perez Family, The (1995)',\n",
       " '787 Roommates (1995)',\n",
       " '788 Relative Fear (1994)',\n",
       " '789 Swimming with Sharks (1995)',\n",
       " '790 Tommy Boy (1995)',\n",
       " '791 Baby-Sitters Club, The (1995)',\n",
       " '792 Bullets Over Broadway (1994)',\n",
       " '793 Crooklyn (1994)',\n",
       " '794 It Could Happen to You (1994)',\n",
       " '795 Richie Rich (1994)',\n",
       " '796 Speechless (1994)',\n",
       " '797 Timecop (1994)',\n",
       " '798 Bad Company (1995)',\n",
       " '799 Boys Life (1995)',\n",
       " '800 In the Mouth of Madness (1995)',\n",
       " '801 Air Up There, The (1994)',\n",
       " '802 Hard Target (1993)',\n",
       " '803 Heaven & Earth (1993)',\n",
       " '804 Jimmy Hollywood (1994)',\n",
       " '805 Manhattan Murder Mystery (1993)',\n",
       " '806 Menace II Society (1993)',\n",
       " '807 Poetic Justice (1993)',\n",
       " '808 Program, The (1993)',\n",
       " '809 Rising Sun (1993)',\n",
       " '810 Shadow, The (1994)',\n",
       " '811 Thirty-Two Short Films About Glenn Gould (1993)',\n",
       " '812 Andre (1994)',\n",
       " '813 Celluloid Closet, The (1995)',\n",
       " '814 Great Day in Harlem, A (1994)',\n",
       " '815 One Fine Day (1996)',\n",
       " '816 Candyman: Farewell to the Flesh (1995)',\n",
       " '817 Frisk (1995)',\n",
       " '818 Girl 6 (1996)',\n",
       " '819 Eddie (1996)',\n",
       " '820 Space Jam (1996)',\n",
       " '821 Mrs. Winterbourne (1996)',\n",
       " '822 Faces (1968)',\n",
       " '823 Mulholland Falls (1996)',\n",
       " '824 Great White Hype, The (1996)',\n",
       " '825 Arrival, The (1996)',\n",
       " '826 Phantom, The (1996)',\n",
       " '827 Daylight (1996)',\n",
       " '828 Alaska (1996)',\n",
       " '829 Fled (1996)',\n",
       " '830 Power 98 (1995)',\n",
       " '831 Escape from L.A. (1996)',\n",
       " '832 Bogus (1996)',\n",
       " '833 Bulletproof (1996)',\n",
       " '834 Halloween: The Curse of Michael Myers (1995)',\n",
       " '835 Gay Divorcee, The (1934)',\n",
       " '836 Ninotchka (1939)',\n",
       " '837 Meet John Doe (1941)',\n",
       " '838 In the Line of Duty 2 (1987)',\n",
       " '839 Loch Ness (1995)',\n",
       " '840 Last Man Standing (1996)',\n",
       " '841 Glimmer Man, The (1996)',\n",
       " '842 Pollyanna (1960)',\n",
       " '843 Shaggy Dog, The (1959)',\n",
       " '844 Freeway (1996)',\n",
       " '845 That Thing You Do! (1996)',\n",
       " '846 To Gillian on Her 37th Birthday (1996)',\n",
       " '847 Looking for Richard (1996)',\n",
       " '848 Murder, My Sweet (1944)',\n",
       " '849 Days of Thunder (1990)',\n",
       " '850 Perfect Candidate, A (1996)',\n",
       " '851 Two or Three Things I Know About Her (1966)',\n",
       " '852 Bloody Child, The (1996)',\n",
       " '853 Braindead (1992)',\n",
       " '854 Bad Taste (1987)',\n",
       " '855 Diva (1981)',\n",
       " '856 Night on Earth (1991)',\n",
       " '857 Paris Was a Woman (1995)',\n",
       " '858 Amityville: Dollhouse (1996)',\n",
       " \"859 April Fool's Day (1986)\",\n",
       " '860 Believers, The (1987)',\n",
       " '861 Nosferatu a Venezia (1986)',\n",
       " '862 Jingle All the Way (1996)',\n",
       " '863 Garden of Finzi-Contini, The (Giardino dei Finzi-Contini, Il) (1970)',\n",
       " '864 My Fellow Americans (1996)',\n",
       " '865 Ice Storm, The (1997)',\n",
       " '866 Michael (1996)',\n",
       " '867 Whole Wide World, The (1996)',\n",
       " '868 Hearts and Minds (1996)',\n",
       " '869 Fools Rush In (1997)',\n",
       " '870 Touch (1997)',\n",
       " '871 Vegas Vacation (1997)',\n",
       " '872 Love Jones (1997)',\n",
       " '873 Picture Perfect (1997)',\n",
       " '874 Career Girls (1997)',\n",
       " \"875 She's So Lovely (1997)\",\n",
       " '876 Money Talks (1997)',\n",
       " '877 Excess Baggage (1997)',\n",
       " '878 That Darn Cat! (1997)',\n",
       " '879 Peacemaker, The (1997)',\n",
       " '880 Soul Food (1997)',\n",
       " '881 Money Talks (1997)',\n",
       " '882 Washington Square (1997)',\n",
       " '883 Telling Lies in America (1997)',\n",
       " '884 Year of the Horse (1997)',\n",
       " '885 Phantoms (1998)',\n",
       " '886 Life Less Ordinary, A (1997)',\n",
       " \"887 Eve's Bayou (1997)\",\n",
       " '888 One Night Stand (1997)',\n",
       " '889 Tango Lesson, The (1997)',\n",
       " '890 Mortal Kombat: Annihilation (1997)',\n",
       " '891 Bent (1997)',\n",
       " '892 Flubber (1997)',\n",
       " '893 For Richer or Poorer (1997)',\n",
       " '894 Home Alone 3 (1997)',\n",
       " '895 Scream 2 (1997)',\n",
       " '896 Sweet Hereafter, The (1997)',\n",
       " '897 Time Tracers (1995)',\n",
       " '898 Postman, The (1997)',\n",
       " '899 Winter Guest, The (1997)',\n",
       " '900 Kundun (1997)',\n",
       " '901 Mr. Magoo (1997)',\n",
       " '902 Big Lebowski, The (1998)',\n",
       " '903 Afterglow (1997)',\n",
       " '904 Ma vie en rose (My Life in Pink) (1997)',\n",
       " '905 Great Expectations (1998)',\n",
       " '906 Oscar & Lucinda (1997)',\n",
       " '907 Vermin (1998)',\n",
       " '908 Half Baked (1998)',\n",
       " '909 Dangerous Beauty (1998)',\n",
       " '910 Nil By Mouth (1997)',\n",
       " '911 Twilight (1998)',\n",
       " '912 U.S. Marshalls (1998)',\n",
       " '913 Love and Death on Long Island (1997)',\n",
       " '914 Wild Things (1998)',\n",
       " '915 Primary Colors (1998)',\n",
       " '916 Lost in Space (1998)',\n",
       " '917 Mercury Rising (1998)',\n",
       " '918 City of Angels (1998)',\n",
       " '919 City of Lost Children, The (1995)',\n",
       " '920 Two Bits (1995)',\n",
       " '921 Farewell My Concubine (1993)',\n",
       " '922 Dead Man (1995)',\n",
       " '923 Raise the Red Lantern (1991)',\n",
       " '924 White Squall (1996)',\n",
       " '925 Unforgettable (1996)',\n",
       " '926 Down Periscope (1996)',\n",
       " '927 Flower of My Secret, The (Flor de mi secreto, La) (1995)',\n",
       " '928 Craft, The (1996)',\n",
       " '929 Harriet the Spy (1996)',\n",
       " '930 Chain Reaction (1996)',\n",
       " '931 Island of Dr. Moreau, The (1996)',\n",
       " '932 First Kid (1996)',\n",
       " '933 Funeral, The (1996)',\n",
       " \"934 Preacher's Wife, The (1996)\",\n",
       " '935 Paradise Road (1997)',\n",
       " '936 Brassed Off (1996)',\n",
       " '937 Thousand Acres, A (1997)',\n",
       " '938 Smile Like Yours, A (1997)',\n",
       " '939 Murder in the First (1995)',\n",
       " '940 Airheads (1994)',\n",
       " '941 With Honors (1994)',\n",
       " \"942 What's Love Got to Do with It (1993)\",\n",
       " '943 Killing Zoe (1994)',\n",
       " '944 Renaissance Man (1994)',\n",
       " '945 Charade (1963)',\n",
       " '946 Fox and the Hound, The (1981)',\n",
       " '947 Big Blue, The (Grand bleu, Le) (1988)',\n",
       " '948 Booty Call (1997)',\n",
       " '949 How to Make an American Quilt (1995)',\n",
       " '950 Georgia (1995)',\n",
       " '951 Indian in the Cupboard, The (1995)',\n",
       " '952 Blue in the Face (1995)',\n",
       " '953 Unstrung Heroes (1995)',\n",
       " '954 Unzipped (1995)',\n",
       " '955 Before Sunrise (1995)',\n",
       " \"956 Nobody's Fool (1994)\",\n",
       " '957 Pushing Hands (1992)',\n",
       " '958 To Live (Huozhe) (1994)',\n",
       " '959 Dazed and Confused (1993)',\n",
       " '960 Naked (1993)',\n",
       " '961 Orlando (1993)',\n",
       " '962 Ruby in Paradise (1993)',\n",
       " '963 Some Folks Call It a Sling Blade (1993)',\n",
       " '964 Month by the Lake, A (1995)',\n",
       " '965 Funny Face (1957)',\n",
       " '966 Affair to Remember, An (1957)',\n",
       " '967 Little Lord Fauntleroy (1936)',\n",
       " '968 Inspector General, The (1949)',\n",
       " '969 Winnie the Pooh and the Blustery Day (1968)',\n",
       " '970 Hear My Song (1991)',\n",
       " '971 Mediterraneo (1991)',\n",
       " '972 Passion Fish (1992)',\n",
       " '973 Grateful Dead (1995)',\n",
       " '974 Eye for an Eye (1996)',\n",
       " '975 Fear (1996)',\n",
       " '976 Solo (1996)',\n",
       " '977 Substitute, The (1996)',\n",
       " \"978 Heaven's Prisoners (1996)\",\n",
       " '979 Trigger Effect, The (1996)',\n",
       " '980 Mother Night (1996)',\n",
       " '981 Dangerous Ground (1997)',\n",
       " '982 Maximum Risk (1996)',\n",
       " \"983 Rich Man's Wife, The (1996)\",\n",
       " '984 Shadow Conspiracy (1997)',\n",
       " '985 Blood & Wine (1997)',\n",
       " '986 Turbulence (1997)',\n",
       " '987 Underworld (1997)',\n",
       " '988 Beautician and the Beast, The (1997)',\n",
       " \"989 Cats Don't Dance (1997)\",\n",
       " '990 Anna Karenina (1997)',\n",
       " '991 Keys to Tulsa (1997)',\n",
       " '992 Head Above Water (1996)',\n",
       " '993 Hercules (1997)',\n",
       " '994 Last Time I Committed Suicide, The (1997)',\n",
       " '995 Kiss Me, Guido (1997)',\n",
       " '996 Big Green, The (1995)',\n",
       " '997 Stuart Saves His Family (1995)',\n",
       " '998 Cabin Boy (1994)',\n",
       " '999 Clean Slate (1994)',\n",
       " '1000 Lightning Jack (1994)',\n",
       " ...]"
      ]
     },
     "execution_count": 34,
     "metadata": {},
     "output_type": "execute_result"
    }
   ],
   "source": [
    "movielist"
   ]
  },
  {
   "cell_type": "code",
   "execution_count": 35,
   "metadata": {},
   "outputs": [
    {
     "data": {
      "text/plain": [
       "(1682, 1)"
      ]
     },
     "execution_count": 35,
     "metadata": {},
     "output_type": "execute_result"
    }
   ],
   "source": [
    "n = len(movielist)\n",
    "my_ratings = np.zeros((n,1))\n",
    "my_ratings.shape"
   ]
  },
  {
   "cell_type": "code",
   "execution_count": 36,
   "metadata": {},
   "outputs": [],
   "source": [
    "my_ratings[0]=4\n",
    "my_ratings[97]=2\n",
    "my_ratings[6]=3\n",
    "my_ratings[11]=5\n",
    "my_ratings[53]=4\n",
    "my_ratings[63]=5\n",
    "my_ratings[65]=3\n",
    "my_ratings[68]=5\n",
    "my_ratings[182]=4\n",
    "my_ratings[225]=5\n",
    "my_ratings[354]=5"
   ]
  },
  {
   "cell_type": "code",
   "execution_count": 37,
   "metadata": {},
   "outputs": [
    {
     "name": "stdout",
     "output_type": "stream",
     "text": [
      "Rated: [4.]  for  1 Toy Story (1995)\n",
      "Rated: [3.]  for  7 Twelve Monkeys (1995)\n",
      "Rated: [5.]  for  12 Usual Suspects, The (1995)\n",
      "Rated: [4.]  for  54 Outbreak (1995)\n",
      "Rated: [5.]  for  64 Shawshank Redemption, The (1994)\n",
      "Rated: [3.]  for  66 While You Were Sleeping (1995)\n",
      "Rated: [5.]  for  69 Forrest Gump (1994)\n",
      "Rated: [2.]  for  98 Silence of the Lambs, The (1991)\n",
      "Rated: [4.]  for  183 Alien (1979)\n",
      "Rated: [5.]  for  226 Die Hard 2 (1990)\n",
      "Rated: [5.]  for  355 Sphere (1998)\n"
     ]
    }
   ],
   "source": [
    "for i in range(0,n):\n",
    "    if(my_ratings[i] > 0):\n",
    "        print('Rated:',my_ratings[i],' for ', movielist[i])"
   ]
  },
  {
   "cell_type": "code",
   "execution_count": 38,
   "metadata": {},
   "outputs": [
    {
     "data": {
      "text/plain": [
       "(1682, 944)"
      ]
     },
     "execution_count": 38,
     "metadata": {},
     "output_type": "execute_result"
    }
   ],
   "source": [
    "myY = np.concatenate((my_ratings, Y), axis = 1)\n",
    "myY.shape"
   ]
  },
  {
   "cell_type": "code",
   "execution_count": 39,
   "metadata": {},
   "outputs": [
    {
     "data": {
      "text/plain": [
       "(1682, 944)"
      ]
     },
     "execution_count": 39,
     "metadata": {},
     "output_type": "execute_result"
    }
   ],
   "source": [
    "myR = np.concatenate((my_ratings!=0,R), axis =1)\n",
    "myR.shape"
   ]
  },
  {
   "cell_type": "markdown",
   "metadata": {},
   "source": [
    "### 2.4.2 Mean Normalization"
   ]
  },
  {
   "cell_type": "code",
   "execution_count": 169,
   "metadata": {},
   "outputs": [],
   "source": [
    "def normalizeRatings(myY, myR):\n",
    "    [m,n] = myY.shape\n",
    "    Ymean = np.zeros(m)\n",
    "    Ynorm = np.zeros(myY.shape)\n",
    "    for i in range(m):\n",
    "        idx = np.argwhere(myR[i,:]==1)\n",
    "        Ymean[i] = np.mean(myY[i,idx])\n",
    "        Ynorm[i,idx] = myY[i,idx]-Ymean[i]\n",
    "    return Ynorm, Ymean"
   ]
  },
  {
   "cell_type": "code",
   "execution_count": 170,
   "metadata": {},
   "outputs": [
    {
     "name": "stdout",
     "output_type": "stream",
     "text": [
      "Ymean: [3.8785872  3.20610687 3.03333333 ... 2.         3.         3.        ]\n",
      "Ynorm: [[ 0.1214128   1.1214128   0.1214128  ...  1.1214128   0.\n",
      "   0.        ]\n",
      " [ 0.         -0.20610687  0.         ...  0.          0.\n",
      "   1.79389313]\n",
      " [ 0.          0.96666667  0.         ...  0.          0.\n",
      "   0.        ]\n",
      " ...\n",
      " [ 0.          0.          0.         ...  0.          0.\n",
      "   0.        ]\n",
      " [ 0.          0.          0.         ...  0.          0.\n",
      "   0.        ]\n",
      " [ 0.          0.          0.         ...  0.          0.\n",
      "   0.        ]]\n"
     ]
    }
   ],
   "source": [
    "Ynorm, Ymean = normalizeRatings(myY,myR)\n",
    "print('Ymean:',Ymean)\n",
    "print('Ynorm:',Ynorm)"
   ]
  },
  {
   "cell_type": "code",
   "execution_count": 183,
   "metadata": {},
   "outputs": [
    {
     "data": {
      "text/plain": [
       "1.0"
      ]
     },
     "execution_count": 183,
     "metadata": {},
     "output_type": "execute_result"
    }
   ],
   "source": [
    "min(Ymean)"
   ]
  },
  {
   "cell_type": "markdown",
   "metadata": {},
   "source": [
    "### 2.4.3 Recommendations"
   ]
  },
  {
   "cell_type": "code",
   "execution_count": 42,
   "metadata": {},
   "outputs": [],
   "source": [
    "from scipy.optimize import minimize"
   ]
  },
  {
   "cell_type": "code",
   "execution_count": 43,
   "metadata": {},
   "outputs": [],
   "source": [
    "my_movies, my_users = myY.shape\n",
    "my_features = 10"
   ]
  },
  {
   "cell_type": "code",
   "execution_count": 113,
   "metadata": {},
   "outputs": [
    {
     "name": "stdout",
     "output_type": "stream",
     "text": [
      "myX: [[-0.39442739 -1.37746731  0.73491529 ... -1.11012938  1.05867352\n",
      "   1.48312038]\n",
      " [ 0.28659989 -1.69150673  1.35201561 ...  1.20019094  1.10803744\n",
      "  -0.7325916 ]\n",
      " [-1.44734469 -1.20460352  0.84733893 ... -0.0069134   0.34932414\n",
      "   1.73716463]\n",
      " ...\n",
      " [-0.67009074 -0.70308014 -0.65649663 ...  0.89170364 -0.26974247\n",
      "  -0.40256915]\n",
      " [ 0.13342336 -0.07403143  1.21119138 ... -0.17149504  0.12176627\n",
      "  -0.80373288]\n",
      " [-1.11010611 -1.32351084 -1.36521547 ... -0.68507732 -0.9897282\n",
      "  -2.93649583]]\n",
      "myTheta: [[-0.17645992  0.79972968 -0.02551817 ... -0.33128298 -1.39994226\n",
      "   0.05204392]\n",
      " [-0.91166244  0.37287782 -1.33387789 ... -0.28674518 -0.01975678\n",
      "  -0.69039815]\n",
      " [ 0.00966269 -0.24653575  1.07594285 ... -0.15346142  0.50586857\n",
      "   0.73230919]\n",
      " ...\n",
      " [ 2.12554406  1.10087126  0.54936235 ...  0.97955769 -1.02104806\n",
      "   0.37506309]\n",
      " [ 0.83337862  1.30201726  0.06017233 ...  0.07717914  0.21911659\n",
      "  -0.76982245]\n",
      " [-0.29830953  0.63955076 -0.17240468 ...  1.11343261 -1.1183957\n",
      "   1.46877526]]\n"
     ]
    }
   ],
   "source": [
    "myX = np.random.randn(my_movies, my_features)\n",
    "myTheta = np.random.randn(my_users, my_features)\n",
    "print('myX:',myX)\n",
    "print('myTheta:',myTheta)"
   ]
  },
  {
   "cell_type": "code",
   "execution_count": 114,
   "metadata": {},
   "outputs": [],
   "source": [
    "initial_parameters = np.concatenate((myX, myTheta), axis = None)"
   ]
  },
  {
   "cell_type": "code",
   "execution_count": 330,
   "metadata": {},
   "outputs": [],
   "source": [
    "#don't know why using Ymean as y will get total different answer\n",
    "result = minimize(lambda x: cofiCostFunc(x, myY, myR, my_users, my_movies, num_features, 10),\\\n",
    "                 initial_parameters, method='TNC',jac=True, options={'maxiter':500})"
   ]
  },
  {
   "cell_type": "code",
   "execution_count": 331,
   "metadata": {},
   "outputs": [
    {
     "name": "stdout",
     "output_type": "stream",
     "text": [
      "     fun: 71897.41749177361\n",
      "     jac: array([ 4.07968585e-03, -2.00888698e-02,  3.59187673e-03, ...,\n",
      "        5.22604923e-03, -2.09857960e-03,  9.36582949e-05])\n",
      " message: 'Max. number of function evaluations reached'\n",
      "    nfev: 500\n",
      "     nit: 30\n",
      "  status: 3\n",
      " success: False\n",
      "       x: array([-0.25997809, -0.63589379,  0.19953173, ..., -0.94355643,\n",
      "        0.68016955,  0.17946095])\n"
     ]
    }
   ],
   "source": [
    "print(result)"
   ]
  },
  {
   "cell_type": "code",
   "execution_count": 332,
   "metadata": {},
   "outputs": [
    {
     "data": {
      "text/plain": [
       "(26260,)"
      ]
     },
     "execution_count": 332,
     "metadata": {},
     "output_type": "execute_result"
    }
   ],
   "source": [
    "result.x.shape"
   ]
  },
  {
   "cell_type": "code",
   "execution_count": 333,
   "metadata": {},
   "outputs": [
    {
     "data": {
      "text/plain": [
       "(1682, 10)"
      ]
     },
     "execution_count": 333,
     "metadata": {},
     "output_type": "execute_result"
    }
   ],
   "source": [
    "ans_x = result.x[0:my_movies*my_features].reshape(my_movies, my_features)\n",
    "ans_x.shape"
   ]
  },
  {
   "cell_type": "code",
   "execution_count": 334,
   "metadata": {},
   "outputs": [
    {
     "data": {
      "text/plain": [
       "(944, 10)"
      ]
     },
     "execution_count": 334,
     "metadata": {},
     "output_type": "execute_result"
    }
   ],
   "source": [
    "ans_theta = result.x[my_movies*my_features:].reshape(my_users,my_features)\n",
    "ans_theta.shape"
   ]
  },
  {
   "cell_type": "code",
   "execution_count": 335,
   "metadata": {},
   "outputs": [
    {
     "data": {
      "text/plain": [
       "array([[-0.25997809, -0.63589379,  0.19953173, ..., -0.99136213,\n",
       "         0.29809314,  0.22025841],\n",
       "       [-0.08172972, -0.21245998, -0.078863  , ..., -0.804466  ,\n",
       "         0.49729932,  0.66139007],\n",
       "       [-0.38070341,  0.60408896, -0.76803397, ..., -0.11059701,\n",
       "         0.46876071,  0.95928832],\n",
       "       ...,\n",
       "       [-0.06081948,  0.11058272, -0.14518274, ..., -0.02241841,\n",
       "         0.04529435,  0.01461607],\n",
       "       [ 0.06655965,  0.05147523,  0.01220169, ..., -0.2012451 ,\n",
       "         0.13295311,  0.03301696],\n",
       "       [-0.18639441,  0.17820418, -0.03130577, ..., -0.16762943,\n",
       "         0.04802881,  0.08488476]])"
      ]
     },
     "execution_count": 335,
     "metadata": {},
     "output_type": "execute_result"
    }
   ],
   "source": [
    "ans_x"
   ]
  },
  {
   "cell_type": "code",
   "execution_count": 336,
   "metadata": {},
   "outputs": [
    {
     "data": {
      "text/plain": [
       "(1682, 944)"
      ]
     },
     "execution_count": 336,
     "metadata": {},
     "output_type": "execute_result"
    }
   ],
   "source": [
    "p = np.dot(ans_x, ans_theta.T)\n",
    "p.shape"
   ]
  },
  {
   "cell_type": "code",
   "execution_count": 337,
   "metadata": {},
   "outputs": [],
   "source": [
    "my_prediction = p[:,0]"
   ]
  },
  {
   "cell_type": "code",
   "execution_count": 338,
   "metadata": {},
   "outputs": [],
   "source": [
    "my_index =(-my_prediction).argsort() #sort for highest rating"
   ]
  },
  {
   "cell_type": "code",
   "execution_count": 339,
   "metadata": {},
   "outputs": [
    {
     "data": {
      "text/plain": [
       "array([ 312,   49,  173, ..., 1564, 1568, 1547], dtype=int64)"
      ]
     },
     "execution_count": 339,
     "metadata": {},
     "output_type": "execute_result"
    }
   ],
   "source": [
    "my_index"
   ]
  },
  {
   "cell_type": "code",
   "execution_count": 340,
   "metadata": {},
   "outputs": [
    {
     "name": "stdout",
     "output_type": "stream",
     "text": [
      "Predictin rating: 4.296488843908813  movie: 313 Titanic (1997)\n",
      "Predictin rating: 4.120684191785352  movie: 50 Star Wars (1977)\n",
      "Predictin rating: 3.9775578305716333  movie: 174 Raiders of the Lost Ark (1981)\n",
      "Predictin rating: 3.912564625512516  movie: 272 Good Will Hunting (1997)\n",
      "Predictin rating: 3.884974532986415  movie: 64 Shawshank Redemption, The (1994)\n",
      "Predictin rating: 3.8727098269146056  movie: 181 Return of the Jedi (1983)\n",
      "Predictin rating: 3.8701015483785652  movie: 22 Braveheart (1995)\n",
      "Predictin rating: 3.8622947119880644  movie: 172 Empire Strikes Back, The (1980)\n",
      "Predictin rating: 3.7586565649398684  movie: 96 Terminator 2: Judgment Day (1991)\n",
      "Predictin rating: 3.757235046173744  movie: 316 As Good As It Gets (1997)\n"
     ]
    }
   ],
   "source": [
    "for i in range(0,10):\n",
    "    index = my_index[i]\n",
    "    print('Predictin rating:',my_prediction[index],' movie:',movielist[index])"
   ]
  },
  {
   "cell_type": "code",
   "execution_count": null,
   "metadata": {},
   "outputs": [],
   "source": []
  }
 ],
 "metadata": {
  "kernelspec": {
   "display_name": "Python 3",
   "language": "python",
   "name": "python3"
  },
  "language_info": {
   "codemirror_mode": {
    "name": "ipython",
    "version": 3
   },
   "file_extension": ".py",
   "mimetype": "text/x-python",
   "name": "python",
   "nbconvert_exporter": "python",
   "pygments_lexer": "ipython3",
   "version": "3.8.5"
  }
 },
 "nbformat": 4,
 "nbformat_minor": 4
}
